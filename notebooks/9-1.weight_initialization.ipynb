{
  "nbformat": 4,
  "nbformat_minor": 0,
  "metadata": {
    "kernelspec": {
      "display_name": "TensorFlow 2.3 on Python 3.6 (CUDA 10.1)",
      "language": "python",
      "name": "python3"
    },
    "language_info": {
      "codemirror_mode": {
        "name": "ipython",
        "version": 3
      },
      "file_extension": ".py",
      "mimetype": "text/x-python",
      "name": "python",
      "nbconvert_exporter": "python",
      "pygments_lexer": "ipython3",
      "version": "3.6.9"
    },
    "colab": {
      "name": "9-1.weight_initialization.ipynb",
      "provenance": []
    },
    "accelerator": "GPU"
  },
  "cells": [
    {
      "cell_type": "markdown",
      "metadata": {
        "id": "0cwi1yTfzXOE"
      },
      "source": [
        "# 가중치 초기화"
      ]
    },
    {
      "cell_type": "markdown",
      "metadata": {
        "id": "e6UbOPmAzXOL"
      },
      "source": [
        "이 노트북에서는 가중치 초기화가 층의 출력에 어떤 영향을 미치는지 알아 봅니다."
      ]
    },
    {
      "cell_type": "markdown",
      "metadata": {
        "id": "MgdZpxD0zXOM"
      },
      "source": [
        "[![Open In Colab](https://colab.research.google.com/assets/colab-badge.svg)](https://colab.research.google.com/github/rickiepark/dl-illustrated/blob/master/notebooks/9-1.weight_initialization.ipynb)"
      ]
    },
    {
      "cell_type": "markdown",
      "metadata": {
        "id": "lYtDagbOzXOM"
      },
      "source": [
        "#### 라이브러리를 적재합니다."
      ]
    },
    {
      "cell_type": "code",
      "metadata": {
        "id": "E3h3NczrzXOM"
      },
      "source": [
        "import numpy as np\n",
        "import matplotlib.pyplot as plt\n",
        "\n",
        "from tensorflow.keras import Sequential\n",
        "from tensorflow.keras.layers import Dense, Activation\n",
        "from tensorflow.keras.initializers import Zeros, RandomNormal, glorot_normal, glorot_uniform"
      ],
      "execution_count": 1,
      "outputs": []
    },
    {
      "cell_type": "markdown",
      "metadata": {
        "id": "8ieDVCRpzXON"
      },
      "source": [
        "#### 뉴런의 개수를 지정합니다."
      ]
    },
    {
      "cell_type": "code",
      "metadata": {
        "id": "P1v3ZBUhzXON"
      },
      "source": [
        "n_input = 784\n",
        "n_dense = 256"
      ],
      "execution_count": 2,
      "outputs": []
    },
    {
      "cell_type": "markdown",
      "metadata": {
        "id": "uvSpE-mlzXON"
      },
      "source": [
        "#### 절편의 초깃값을 지정합니다."
      ]
    },
    {
      "cell_type": "code",
      "metadata": {
        "id": "PHzeN5tezXON"
      },
      "source": [
        "b_init = Zeros()"
      ],
      "execution_count": 3,
      "outputs": []
    },
    {
      "cell_type": "markdown",
      "metadata": {
        "id": "SR_B3hupzXOO"
      },
      "source": [
        "#### 가중치 초기화를 선택합니다."
      ]
    },
    {
      "cell_type": "code",
      "metadata": {
        "id": "PPA9GguezXOO"
      },
      "source": [
        "w_init = RandomNormal(stddev=1.0)\n",
        "# w_init = glorot_normal()\n",
        "# w_init = glorot_uniform()"
      ],
      "execution_count": 4,
      "outputs": []
    },
    {
      "cell_type": "markdown",
      "metadata": {
        "id": "RpDUl7hazXOO"
      },
      "source": [
        "#### 신경망을 만듭니다."
      ]
    },
    {
      "cell_type": "code",
      "metadata": {
        "id": "e7voAI6dzXOO"
      },
      "source": [
        "model = Sequential()\n",
        "model.add(Dense(n_dense, \n",
        "                input_dim=n_input,\n",
        "                kernel_initializer=w_init,\n",
        "                bias_initializer=b_init))\n",
        "model.add(Activation('sigmoid'))\n",
        "# model.add(Activation('tanh'))\n",
        "# model.add(Activation('relu'))"
      ],
      "execution_count": 5,
      "outputs": []
    },
    {
      "cell_type": "markdown",
      "metadata": {
        "id": "xHSsM8QKzXOP"
      },
      "source": [
        "#### 랜덤한 *x* 값을 생성합니다."
      ]
    },
    {
      "cell_type": "code",
      "metadata": {
        "id": "VOXC5EtBzXOP"
      },
      "source": [
        "x = np.random.random((1,n_input))"
      ],
      "execution_count": 6,
      "outputs": []
    },
    {
      "cell_type": "markdown",
      "metadata": {
        "id": "ucgRuwWGzXOP"
      },
      "source": [
        "#### 신경망의 정방향 계산을 수행합니다."
      ]
    },
    {
      "cell_type": "code",
      "metadata": {
        "id": "ddTN1W_AzXOP"
      },
      "source": [
        "a = model.predict(x)"
      ],
      "execution_count": 7,
      "outputs": []
    },
    {
      "cell_type": "code",
      "metadata": {
        "id": "XgoTL6gGzXOQ",
        "colab": {
          "base_uri": "https://localhost:8080/"
        },
        "outputId": "8536b9b7-dd99-4508-e32b-9ecea871ce05"
      },
      "source": [
        "a"
      ],
      "execution_count": 8,
      "outputs": [
        {
          "output_type": "execute_result",
          "data": {
            "text/plain": [
              "array([[8.57716680e-01, 9.99999046e-01, 2.44511236e-02, 2.79108455e-11,\n",
              "        9.99946713e-01, 9.99678135e-01, 1.16226038e-04, 8.01255082e-05,\n",
              "        9.99998927e-01, 1.00000000e+00, 2.51665264e-01, 1.00000000e+00,\n",
              "        4.57463278e-16, 3.25532795e-07, 9.99995589e-01, 1.57812319e-04,\n",
              "        2.14665197e-02, 1.00445084e-03, 1.72294497e-01, 1.37995323e-12,\n",
              "        9.95162308e-01, 9.99701917e-01, 1.00000000e+00, 1.48063853e-11,\n",
              "        4.06211168e-02, 1.26103005e-05, 9.99992490e-01, 1.00000000e+00,\n",
              "        2.34449971e-02, 2.37330577e-09, 6.20579183e-01, 9.91742492e-01,\n",
              "        4.28458326e-04, 8.14839005e-01, 9.43324327e-01, 9.99999881e-01,\n",
              "        7.34509968e-07, 4.24043159e-04, 5.50540048e-04, 1.00000000e+00,\n",
              "        5.35098501e-02, 9.99967694e-01, 3.56577475e-05, 1.00000000e+00,\n",
              "        9.97071505e-01, 9.99998093e-01, 9.15162123e-17, 9.99341190e-01,\n",
              "        9.99999881e-01, 4.05555647e-06, 1.07430043e-09, 8.77392709e-01,\n",
              "        9.99916196e-01, 2.75533763e-03, 1.53084716e-03, 9.92300630e-01,\n",
              "        1.00000000e+00, 1.00000000e+00, 1.79471495e-08, 4.12012106e-14,\n",
              "        1.00000000e+00, 5.35374135e-02, 2.21808325e-04, 9.99980688e-01,\n",
              "        9.97551978e-01, 7.99128472e-12, 6.47828158e-04, 1.89356820e-03,\n",
              "        2.37057111e-06, 9.99999881e-01, 9.48200643e-01, 1.00000000e+00,\n",
              "        9.47412491e-01, 7.53809810e-01, 3.83135751e-02, 1.89782202e-01,\n",
              "        9.98676717e-01, 9.99999404e-01, 9.60718393e-01, 9.97702062e-01,\n",
              "        3.20834457e-03, 9.99999046e-01, 9.99999881e-01, 9.99924421e-01,\n",
              "        1.00000000e+00, 8.21717638e-10, 4.34538815e-05, 1.00000000e+00,\n",
              "        9.99603689e-01, 9.29438293e-01, 2.83298284e-01, 2.36884401e-11,\n",
              "        4.13196233e-08, 2.33777291e-06, 3.03623544e-08, 5.72257522e-06,\n",
              "        1.46747836e-10, 9.99815047e-01, 9.27088678e-01, 9.99922872e-01,\n",
              "        3.57162135e-05, 9.40690756e-01, 2.53126267e-08, 1.00000000e+00,\n",
              "        3.18131119e-04, 1.29917368e-07, 3.43038619e-06, 2.23625557e-05,\n",
              "        2.73059588e-02, 9.94704664e-01, 4.84777565e-11, 1.20583855e-01,\n",
              "        3.63901556e-02, 4.74776268e-01, 2.72328947e-07, 7.44024486e-09,\n",
              "        5.78436628e-03, 9.99022245e-01, 9.96171296e-01, 1.00000000e+00,\n",
              "        9.37824661e-05, 2.21785262e-01, 1.00000000e+00, 1.38050751e-10,\n",
              "        7.13186964e-05, 1.45954464e-03, 1.00000000e+00, 4.27069843e-17,\n",
              "        2.11859893e-04, 3.31440330e-01, 1.00000000e+00, 9.99991179e-01,\n",
              "        8.68832767e-01, 3.08269653e-02, 2.97722791e-10, 9.99466717e-01,\n",
              "        1.00000000e+00, 2.14456682e-04, 7.82212979e-08, 9.98491406e-01,\n",
              "        9.99973536e-01, 1.42303834e-12, 3.71272932e-08, 8.66824627e-01,\n",
              "        3.64734127e-08, 9.99735177e-01, 9.99997854e-01, 1.00000000e+00,\n",
              "        1.00000000e+00, 9.73233044e-01, 8.45050752e-10, 6.03086548e-04,\n",
              "        6.54040277e-02, 5.07396042e-01, 4.09601991e-10, 9.99994278e-01,\n",
              "        9.99990106e-01, 7.89799809e-01, 9.99112308e-01, 3.07433620e-05,\n",
              "        9.80505049e-01, 9.99999642e-01, 3.11930031e-02, 2.50910333e-08,\n",
              "        9.99888062e-01, 1.00000000e+00, 1.00000000e+00, 1.42669554e-13,\n",
              "        7.07757426e-05, 9.99998927e-01, 2.58716227e-06, 3.50154205e-13,\n",
              "        1.00000000e+00, 2.23032089e-06, 3.05132346e-08, 1.85875777e-07,\n",
              "        1.00000000e+00, 1.00000000e+00, 1.00000000e+00, 1.11848004e-02,\n",
              "        9.92008448e-01, 3.37371603e-05, 1.00000000e+00, 3.30298571e-05,\n",
              "        2.67083550e-07, 9.99982476e-01, 4.71912444e-01, 8.48842859e-01,\n",
              "        9.99999881e-01, 2.21271184e-04, 9.99989510e-01, 6.79214572e-05,\n",
              "        8.30481713e-06, 1.00000000e+00, 8.43357993e-04, 1.96316047e-03,\n",
              "        1.00000000e+00, 9.99999762e-01, 4.80349932e-04, 9.99994993e-01,\n",
              "        9.93838966e-01, 5.11117816e-01, 9.99824107e-01, 9.99999881e-01,\n",
              "        4.91852575e-07, 3.48120750e-07, 9.95724559e-01, 1.00000000e+00,\n",
              "        1.49749756e-01, 1.04855571e-03, 8.09888661e-01, 1.00000000e+00,\n",
              "        5.37021412e-03, 1.00000000e+00, 2.51051098e-01, 1.42509267e-01,\n",
              "        1.69311790e-03, 1.00000000e+00, 1.00000000e+00, 1.68823782e-08,\n",
              "        4.72778594e-03, 9.99953032e-01, 1.26871556e-01, 8.81358862e-01,\n",
              "        1.00000000e+00, 1.06158644e-04, 2.04625451e-07, 5.11236503e-05,\n",
              "        1.72094943e-17, 1.20237737e-03, 1.00000000e+00, 9.99527574e-01,\n",
              "        9.99981046e-01, 1.00000000e+00, 9.95417714e-01, 9.71839905e-01,\n",
              "        1.32407367e-04, 1.49699658e-01, 1.00000000e+00, 9.50012863e-01,\n",
              "        9.99999881e-01, 2.68140405e-01, 6.65942013e-01, 1.00000000e+00,\n",
              "        9.99998808e-01, 9.96959090e-01, 8.94028604e-01, 9.98789370e-01,\n",
              "        7.08536446e-01, 9.99970317e-01, 8.36992287e-04, 9.99999881e-01,\n",
              "        9.30522947e-06, 2.59720366e-07, 1.48027229e-05, 9.69778597e-01]],\n",
              "      dtype=float32)"
            ]
          },
          "metadata": {},
          "execution_count": 8
        }
      ]
    },
    {
      "cell_type": "code",
      "metadata": {
        "id": "8PW4WCkczXOR",
        "colab": {
          "base_uri": "https://localhost:8080/",
          "height": 268
        },
        "outputId": "6df8ab92-907d-45dd-d1f9-2ce5004a2448"
      },
      "source": [
        "_ = plt.hist(np.transpose(a))"
      ],
      "execution_count": 9,
      "outputs": [
        {
          "output_type": "display_data",
          "data": {
            "image/png": "[encoded data removed]",
            "text/plain": [
              "<Figure size 432x288 with 1 Axes>"
            ]
          },
          "metadata": {
            "needs_background": "light"
          }
        }
      ]
    }
  ]
}