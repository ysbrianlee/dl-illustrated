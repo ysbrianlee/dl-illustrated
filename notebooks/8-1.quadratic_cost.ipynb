{
  "nbformat": 4,
  "nbformat_minor": 0,
  "metadata": {
    "kernelspec": {
      "display_name": "TensorFlow 2.3 on Python 3.6 (CUDA 10.1)",
      "language": "python",
      "name": "python3"
    },
    "language_info": {
      "codemirror_mode": {
        "name": "ipython",
        "version": 3
      },
      "file_extension": ".py",
      "mimetype": "text/x-python",
      "name": "python",
      "nbconvert_exporter": "python",
      "pygments_lexer": "ipython3",
      "version": "3.6.9"
    },
    "colab": {
      "name": "8-1.quadratic_cost.ipynb",
      "provenance": []
    }
  },
  "cells": [
    {
      "cell_type": "markdown",
      "metadata": {
        "id": "BDmLbe8axYoc"
      },
      "source": [
        "# 이차 비용 함수"
      ]
    },
    {
      "cell_type": "markdown",
      "metadata": {
        "id": "klcVqmGVxYoe"
      },
      "source": [
        "[![Open In Colab](https://colab.research.google.com/assets/colab-badge.svg)](https://colab.research.google.com/github/rickiepark/dl-illustrated/blob/master/notebooks/8-1.quadratic_cost.ipynb)"
      ]
    },
    {
      "cell_type": "code",
      "metadata": {
        "id": "mQibxKQ6xYoe"
      },
      "source": [
        "def squared_error(y, yhat):\n",
        "    return (y - yhat)**2"
      ],
      "execution_count": 1,
      "outputs": []
    },
    {
      "cell_type": "code",
      "metadata": {
        "id": "00cdcaILxYof",
        "outputId": "341313b2-5422-4cf3-9136-a03077bbb801",
        "colab": {
          "base_uri": "https://localhost:8080/"
        }
      },
      "source": [
        "squared_error(1, 1)"
      ],
      "execution_count": 2,
      "outputs": [
        {
          "output_type": "execute_result",
          "data": {
            "text/plain": [
              "0"
            ]
          },
          "metadata": {
            "tags": []
          },
          "execution_count": 2
        }
      ]
    },
    {
      "cell_type": "code",
      "metadata": {
        "id": "tFs6b--FxYog",
        "outputId": "90a9ec10-371e-4217-d305-8bcb3d1bd1c3",
        "colab": {
          "base_uri": "https://localhost:8080/"
        }
      },
      "source": [
        "squared_error(1, 0.9997)"
      ],
      "execution_count": 3,
      "outputs": [
        {
          "output_type": "execute_result",
          "data": {
            "text/plain": [
              "8.999999999998017e-08"
            ]
          },
          "metadata": {
            "tags": []
          },
          "execution_count": 3
        }
      ]
    },
    {
      "cell_type": "code",
      "metadata": {
        "id": "t53085P2xYog",
        "outputId": "4b85f78d-e914-4c00-8641-8fbd1b60828f",
        "colab": {
          "base_uri": "https://localhost:8080/"
        }
      },
      "source": [
        "squared_error(1, 0.9)"
      ],
      "execution_count": 4,
      "outputs": [
        {
          "output_type": "execute_result",
          "data": {
            "text/plain": [
              "0.009999999999999995"
            ]
          },
          "metadata": {
            "tags": []
          },
          "execution_count": 4
        }
      ]
    },
    {
      "cell_type": "code",
      "metadata": {
        "id": "zrWt14ZgxYog",
        "outputId": "3fbe3959-601e-459d-811b-c0d015527c6f",
        "colab": {
          "base_uri": "https://localhost:8080/"
        }
      },
      "source": [
        "squared_error(1, 0.6)"
      ],
      "execution_count": 5,
      "outputs": [
        {
          "output_type": "execute_result",
          "data": {
            "text/plain": [
              "0.16000000000000003"
            ]
          },
          "metadata": {
            "tags": []
          },
          "execution_count": 5
        }
      ]
    },
    {
      "cell_type": "code",
      "metadata": {
        "id": "LGB5qBKKxYog",
        "outputId": "f4cf0baa-da98-4cbf-cd36-0dcaa5bb247c",
        "colab": {
          "base_uri": "https://localhost:8080/"
        }
      },
      "source": [
        "squared_error(1, 0.1192)"
      ],
      "execution_count": 6,
      "outputs": [
        {
          "output_type": "execute_result",
          "data": {
            "text/plain": [
              "0.77580864"
            ]
          },
          "metadata": {
            "tags": []
          },
          "execution_count": 6
        }
      ]
    },
    {
      "cell_type": "code",
      "metadata": {
        "id": "13Qg81mZxYoh",
        "outputId": "9be90421-5826-4d08-ca4b-1d25018cae3b",
        "colab": {
          "base_uri": "https://localhost:8080/"
        }
      },
      "source": [
        "squared_error(0, 0.1192)"
      ],
      "execution_count": 7,
      "outputs": [
        {
          "output_type": "execute_result",
          "data": {
            "text/plain": [
              "0.01420864"
            ]
          },
          "metadata": {
            "tags": []
          },
          "execution_count": 7
        }
      ]
    },
    {
      "cell_type": "code",
      "metadata": {
        "id": "J0897HFTxYoh",
        "outputId": "cd4c8c7b-0bc6-4c18-c2df-ad0e291a06d2",
        "colab": {
          "base_uri": "https://localhost:8080/"
        }
      },
      "source": [
        "squared_error(1, 1-0.1192)"
      ],
      "execution_count": 8,
      "outputs": [
        {
          "output_type": "execute_result",
          "data": {
            "text/plain": [
              "0.014208639999999993"
            ]
          },
          "metadata": {
            "tags": []
          },
          "execution_count": 8
        }
      ]
    }
  ]
}