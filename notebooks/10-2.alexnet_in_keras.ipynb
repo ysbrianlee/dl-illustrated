{
  "nbformat": 4,
  "nbformat_minor": 0,
  "metadata": {
    "kernelspec": {
      "display_name": "TensorFlow 2.3 on Python 3.6 (CUDA 10.1)",
      "language": "python",
      "name": "python3"
    },
    "language_info": {
      "codemirror_mode": {
        "name": "ipython",
        "version": 3
      },
      "file_extension": ".py",
      "mimetype": "text/x-python",
      "name": "python",
      "nbconvert_exporter": "python",
      "pygments_lexer": "ipython3",
      "version": "3.6.9"
    },
    "colab": {
      "name": "10-2.alexnet_in_keras.ipynb",
      "provenance": []
    },
    "accelerator": "GPU"
  },
  "cells": [
    {
      "cell_type": "markdown",
      "metadata": {
        "id": "b8YXil1YQCCP"
      },
      "source": [
        "# 케라스로 AlexNet 만들기"
      ]
    },
    {
      "cell_type": "markdown",
      "metadata": {
        "id": "1oBWkfZBQCCT"
      },
      "source": [
        "이 노트북에서 [AlexNet](https://papers.nips.cc/paper/4824-imagenet-classification-with-deep-convolutional-neural-networks)과 비슷한 심층 합성곱 신경망으로 [Oxford Flowers](http://www.robots.ox.ac.uk/~vgg/data/flowers/17/) 데이터셋의 꽃을 17개의 카테고리로 분류하겠습니다."
      ]
    },
    {
      "cell_type": "markdown",
      "metadata": {
        "id": "dIeVe_hPQCCT"
      },
      "source": [
        "[![Open In Colab](https://colab.research.google.com/assets/colab-badge.svg)](https://colab.research.google.com/github/rickiepark/dl-illustrated/blob/master/notebooks/10-2.alexnet_in_keras.ipynb)"
      ]
    },
    {
      "cell_type": "markdown",
      "metadata": {
        "id": "XyGDF8-kQCCU"
      },
      "source": [
        "#### 라이브러리를 적재합니다."
      ]
    },
    {
      "cell_type": "code",
      "metadata": {
        "id": "zNMKKpyhQCCU"
      },
      "source": [
        "from tensorflow import keras\n",
        "from tensorflow.keras.models import Sequential\n",
        "from tensorflow.keras.layers import Dense, Dropout, Flatten, Conv2D, MaxPooling2D\n",
        "from tensorflow.keras.layers import BatchNormalization"
      ],
      "execution_count": 1,
      "outputs": []
    },
    {
      "cell_type": "markdown",
      "metadata": {
        "id": "GLXZFYT7QCCU"
      },
      "source": [
        "#### 데이터를 적재하고 전처리합니다."
      ]
    },
    {
      "cell_type": "markdown",
      "metadata": {
        "id": "JAGhSpKvQCCU"
      },
      "source": [
        "원서 노트북은 tflearn을 사용해 oxflower17 데이터셋을 다운로드합니다. 이 라이브러리는 텐서플로 2와 호환되지 않습니다. 여기에서는 사전에 tflearn으로 다운받은 데이터를 다운로드하여 사용합니다.\n",
        "\n",
        "이 데이터셋에 대한 자세한 내용은 http://www.robots.ox.ac.uk/~vgg/data/flowers/17/ 을 참고하세요."
      ]
    },
    {
      "cell_type": "code",
      "metadata": {
        "id": "TMi_JHiaQCCV",
        "colab": {
          "base_uri": "https://localhost:8080/"
        },
        "outputId": "fb0265ad-1a58-4a0e-e0e0-7cf781879b87"
      },
      "source": [
        "!rm oxflower17*\n",
        "!wget https://bit.ly/36QytdH -O oxflower17.npz"
      ],
      "execution_count": 2,
      "outputs": [
        {
          "output_type": "stream",
          "text": [
            "rm: cannot remove 'oxflower17*': No such file or directory\n",
            "--2021-08-21 13:17:17--  https://bit.ly/36QytdH\n",
            "Resolving bit.ly (bit.ly)... 67.199.248.11, 67.199.248.10\n",
            "Connecting to bit.ly (bit.ly)|67.199.248.11|:443... connected.\n",
            "HTTP request sent, awaiting response... 301 Moved Permanently\n",
            "Location: https://onedrive.live.com/download?cid=822579D69D2DC3B5&resid=822579D69D2DC3B5!597859&authkey=AGd0CpvKFkK8GtE [following]\n",
            "--2021-08-21 13:17:17--  https://onedrive.live.com/download?cid=822579D69D2DC3B5&resid=822579D69D2DC3B5!597859&authkey=AGd0CpvKFkK8GtE\n",
            "Resolving onedrive.live.com (onedrive.live.com)... 13.107.42.13\n",
            "Connecting to onedrive.live.com (onedrive.live.com)|13.107.42.13|:443... connected.\n",
            "HTTP request sent, awaiting response... 302 Found\n",
            "Location: https://57ucia.bl.files.1drv.com/y4mUhPdcQlUGI4Asclf-kTSiJd9xqhVdD2k52tazj5OESl0aN1ZuABqmd3K42eOR31yTxCFHzqq9beBzlEU8Sxk1aaerRsHblaMR1ufzAQC7nCx5-d4ejgiQ216SbnXEzim16gkpNMTcYFjTIAbsu9lshhvf7Um6GwRE0M3CfmppZcHGTLhMOzTehxK8egZJ7hXn3qDJktXXYk0CksSCxTsVg/oxflower17.npz?download&psid=1 [following]\n",
            "--2021-08-21 13:17:18--  https://57ucia.bl.files.1drv.com/y4mUhPdcQlUGI4Asclf-kTSiJd9xqhVdD2k52tazj5OESl0aN1ZuABqmd3K42eOR31yTxCFHzqq9beBzlEU8Sxk1aaerRsHblaMR1ufzAQC7nCx5-d4ejgiQ216SbnXEzim16gkpNMTcYFjTIAbsu9lshhvf7Um6GwRE0M3CfmppZcHGTLhMOzTehxK8egZJ7hXn3qDJktXXYk0CksSCxTsVg/oxflower17.npz?download&psid=1\n",
            "Resolving 57ucia.bl.files.1drv.com (57ucia.bl.files.1drv.com)... 13.107.42.12\n",
            "Connecting to 57ucia.bl.files.1drv.com (57ucia.bl.files.1drv.com)|13.107.42.12|:443... connected.\n",
            "HTTP request sent, awaiting response... 200 OK\n",
            "Length: 252415092 (241M) [application/zip]\n",
            "Saving to: ‘oxflower17.npz’\n",
            "\n",
            "oxflower17.npz      100%[===================>] 240.72M  22.4MB/s    in 10s     \n",
            "\n",
            "2021-08-21 13:17:29 (23.1 MB/s) - ‘oxflower17.npz’ saved [252415092/252415092]\n",
            "\n"
          ],
          "name": "stdout"
        }
      ]
    },
    {
      "cell_type": "code",
      "metadata": {
        "id": "iJmvncZCQCCV"
      },
      "source": [
        "import numpy as np\n",
        "\n",
        "data = np.load('oxflower17.npz')\n",
        "X = data['X']\n",
        "Y = data['Y']"
      ],
      "execution_count": 3,
      "outputs": []
    },
    {
      "cell_type": "code",
      "metadata": {
        "id": "d_Xy4VLPQCCW",
        "colab": {
          "base_uri": "https://localhost:8080/"
        },
        "outputId": "6f2ef8e2-fff4-4ebf-da8a-5f36266d0481"
      },
      "source": [
        "X.shape, Y.shape"
      ],
      "execution_count": 4,
      "outputs": [
        {
          "output_type": "execute_result",
          "data": {
            "text/plain": [
              "((1360, 224, 224, 3), (1360, 17))"
            ]
          },
          "metadata": {},
          "execution_count": 4
        }
      ]
    },
    {
      "cell_type": "markdown",
      "metadata": {
        "id": "BYAvW3sNQCCW"
      },
      "source": [
        "#### 신경망 모델을 만듭니다."
      ]
    },
    {
      "cell_type": "code",
      "metadata": {
        "id": "8IXx-jQLQCCW"
      },
      "source": [
        "model = Sequential()\n",
        "\n",
        "model.add(Conv2D(96, kernel_size=(11, 11), strides=(4, 4), activation='relu', input_shape=(224, 224, 3)))\n",
        "model.add(MaxPooling2D(pool_size=(3, 3), strides=(2, 2)))\n",
        "model.add(BatchNormalization())\n",
        "\n",
        "model.add(Conv2D(256, kernel_size=(5, 5), activation='relu'))\n",
        "model.add(MaxPooling2D(pool_size=(3, 3), strides=(2, 2)))\n",
        "model.add(BatchNormalization())\n",
        "\n",
        "model.add(Conv2D(256, kernel_size=(3, 3), activation='relu'))\n",
        "model.add(Conv2D(384, kernel_size=(3, 3), activation='relu'))\n",
        "model.add(Conv2D(384, kernel_size=(3, 3), activation='relu'))\n",
        "model.add(MaxPooling2D(pool_size=(3, 3), strides=(2, 2)))\n",
        "model.add(BatchNormalization())\n",
        "\n",
        "model.add(Flatten())\n",
        "model.add(Dense(4096, activation='tanh'))\n",
        "model.add(Dropout(0.5))\n",
        "model.add(Dense(4096, activation='tanh'))\n",
        "model.add(Dropout(0.5))\n",
        "\n",
        "model.add(Dense(17, activation='softmax'))"
      ],
      "execution_count": 5,
      "outputs": []
    },
    {
      "cell_type": "code",
      "metadata": {
        "id": "PDoU5NTkQCCW",
        "colab": {
          "base_uri": "https://localhost:8080/"
        },
        "outputId": "f4c9ed83-9104-4172-ff14-34a89fb9703e"
      },
      "source": [
        "model.summary()"
      ],
      "execution_count": 6,
      "outputs": [
        {
          "output_type": "stream",
          "text": [
            "Model: \"sequential\"\n",
            "_________________________________________________________________\n",
            "Layer (type)                 Output Shape              Param #   \n",
            "=================================================================\n",
            "conv2d (Conv2D)              (None, 54, 54, 96)        34944     \n",
            "_________________________________________________________________\n",
            "max_pooling2d (MaxPooling2D) (None, 26, 26, 96)        0         \n",
            "_________________________________________________________________\n",
            "batch_normalization (BatchNo (None, 26, 26, 96)        384       \n",
            "_________________________________________________________________\n",
            "conv2d_1 (Conv2D)            (None, 22, 22, 256)       614656    \n",
            "_________________________________________________________________\n",
            "max_pooling2d_1 (MaxPooling2 (None, 10, 10, 256)       0         \n",
            "_________________________________________________________________\n",
            "batch_normalization_1 (Batch (None, 10, 10, 256)       1024      \n",
            "_________________________________________________________________\n",
            "conv2d_2 (Conv2D)            (None, 8, 8, 256)         590080    \n",
            "_________________________________________________________________\n",
            "conv2d_3 (Conv2D)            (None, 6, 6, 384)         885120    \n",
            "_________________________________________________________________\n",
            "conv2d_4 (Conv2D)            (None, 4, 4, 384)         1327488   \n",
            "_________________________________________________________________\n",
            "max_pooling2d_2 (MaxPooling2 (None, 1, 1, 384)         0         \n",
            "_________________________________________________________________\n",
            "batch_normalization_2 (Batch (None, 1, 1, 384)         1536      \n",
            "_________________________________________________________________\n",
            "flatten (Flatten)            (None, 384)               0         \n",
            "_________________________________________________________________\n",
            "dense (Dense)                (None, 4096)              1576960   \n",
            "_________________________________________________________________\n",
            "dropout (Dropout)            (None, 4096)              0         \n",
            "_________________________________________________________________\n",
            "dense_1 (Dense)              (None, 4096)              16781312  \n",
            "_________________________________________________________________\n",
            "dropout_1 (Dropout)          (None, 4096)              0         \n",
            "_________________________________________________________________\n",
            "dense_2 (Dense)              (None, 17)                69649     \n",
            "=================================================================\n",
            "Total params: 21,883,153\n",
            "Trainable params: 21,881,681\n",
            "Non-trainable params: 1,472\n",
            "_________________________________________________________________\n"
          ],
          "name": "stdout"
        }
      ]
    },
    {
      "cell_type": "markdown",
      "metadata": {
        "id": "EYiTN_TPQCCX"
      },
      "source": [
        "#### 모델을 설정합니다."
      ]
    },
    {
      "cell_type": "code",
      "metadata": {
        "id": "CgrBXoewQCCX"
      },
      "source": [
        "model.compile(loss='categorical_crossentropy', optimizer='adam', metrics=['accuracy'])"
      ],
      "execution_count": 7,
      "outputs": []
    },
    {
      "cell_type": "markdown",
      "metadata": {
        "id": "tBHoQvoHQCCX"
      },
      "source": [
        "#### 훈련!"
      ]
    },
    {
      "cell_type": "code",
      "metadata": {
        "id": "Ak5Yfoi1QCCX",
        "colab": {
          "base_uri": "https://localhost:8080/"
        },
        "outputId": "3f82670b-7caf-4430-e574-1e1c81eea348"
      },
      "source": [
        "model.fit(X, Y, batch_size=64, epochs=100, verbose=1, validation_split=0.1, shuffle=True)"
      ],
      "execution_count": 8,
      "outputs": [
        {
          "output_type": "stream",
          "text": [
            "Epoch 1/100\n",
            "20/20 [==============================] - 34s 86ms/step - loss: 4.5239 - accuracy: 0.1871 - val_loss: 6.7543 - val_accuracy: 0.1324\n",
            "Epoch 2/100\n",
            "20/20 [==============================] - 1s 53ms/step - loss: 3.1264 - accuracy: 0.2876 - val_loss: 3.6883 - val_accuracy: 0.0956\n",
            "Epoch 3/100\n",
            "20/20 [==============================] - 1s 54ms/step - loss: 2.6828 - accuracy: 0.3129 - val_loss: 4.4686 - val_accuracy: 0.2059\n",
            "Epoch 4/100\n",
            "20/20 [==============================] - 1s 53ms/step - loss: 2.5200 - accuracy: 0.3456 - val_loss: 4.0328 - val_accuracy: 0.2132\n",
            "Epoch 5/100\n",
            "20/20 [==============================] - 1s 55ms/step - loss: 2.4953 - accuracy: 0.3358 - val_loss: 3.4560 - val_accuracy: 0.1985\n",
            "Epoch 6/100\n",
            "20/20 [==============================] - 1s 54ms/step - loss: 2.1424 - accuracy: 0.3979 - val_loss: 3.6366 - val_accuracy: 0.2059\n",
            "Epoch 7/100\n",
            "20/20 [==============================] - 1s 54ms/step - loss: 2.0597 - accuracy: 0.4199 - val_loss: 3.3827 - val_accuracy: 0.2426\n",
            "Epoch 8/100\n",
            "20/20 [==============================] - 1s 55ms/step - loss: 2.3959 - accuracy: 0.3824 - val_loss: 4.7034 - val_accuracy: 0.2279\n",
            "Epoch 9/100\n",
            "20/20 [==============================] - 1s 55ms/step - loss: 2.3693 - accuracy: 0.3946 - val_loss: 4.1688 - val_accuracy: 0.2500\n",
            "Epoch 10/100\n",
            "20/20 [==============================] - 1s 54ms/step - loss: 2.5528 - accuracy: 0.3758 - val_loss: 5.5898 - val_accuracy: 0.2059\n",
            "Epoch 11/100\n",
            "20/20 [==============================] - 1s 55ms/step - loss: 2.1840 - accuracy: 0.4322 - val_loss: 3.9671 - val_accuracy: 0.2279\n",
            "Epoch 12/100\n",
            "20/20 [==============================] - 1s 55ms/step - loss: 2.1526 - accuracy: 0.4167 - val_loss: 3.5676 - val_accuracy: 0.3235\n",
            "Epoch 13/100\n",
            "20/20 [==============================] - 1s 53ms/step - loss: 1.9989 - accuracy: 0.4485 - val_loss: 4.4336 - val_accuracy: 0.1838\n",
            "Epoch 14/100\n",
            "20/20 [==============================] - 1s 55ms/step - loss: 2.0341 - accuracy: 0.4232 - val_loss: 4.3401 - val_accuracy: 0.1912\n",
            "Epoch 15/100\n",
            "20/20 [==============================] - 1s 55ms/step - loss: 1.8289 - accuracy: 0.4706 - val_loss: 2.9038 - val_accuracy: 0.3603\n",
            "Epoch 16/100\n",
            "20/20 [==============================] - 1s 54ms/step - loss: 2.1312 - accuracy: 0.4502 - val_loss: 2.5260 - val_accuracy: 0.3824\n",
            "Epoch 17/100\n",
            "20/20 [==============================] - 1s 54ms/step - loss: 1.7212 - accuracy: 0.5114 - val_loss: 4.2765 - val_accuracy: 0.2868\n",
            "Epoch 18/100\n",
            "20/20 [==============================] - 1s 54ms/step - loss: 1.7713 - accuracy: 0.4984 - val_loss: 3.4584 - val_accuracy: 0.3309\n",
            "Epoch 19/100\n",
            "20/20 [==============================] - 1s 55ms/step - loss: 1.6647 - accuracy: 0.4984 - val_loss: 3.5308 - val_accuracy: 0.3456\n",
            "Epoch 20/100\n",
            "20/20 [==============================] - 1s 55ms/step - loss: 1.4467 - accuracy: 0.5768 - val_loss: 4.6045 - val_accuracy: 0.2794\n",
            "Epoch 21/100\n",
            "20/20 [==============================] - 1s 53ms/step - loss: 1.7232 - accuracy: 0.4877 - val_loss: 2.7254 - val_accuracy: 0.3162\n",
            "Epoch 22/100\n",
            "20/20 [==============================] - 1s 55ms/step - loss: 1.4475 - accuracy: 0.5605 - val_loss: 3.1484 - val_accuracy: 0.2794\n",
            "Epoch 23/100\n",
            "20/20 [==============================] - 1s 54ms/step - loss: 1.3404 - accuracy: 0.6119 - val_loss: 5.3828 - val_accuracy: 0.1912\n",
            "Epoch 24/100\n",
            "20/20 [==============================] - 1s 54ms/step - loss: 1.4914 - accuracy: 0.5850 - val_loss: 3.2140 - val_accuracy: 0.3603\n",
            "Epoch 25/100\n",
            "20/20 [==============================] - 1s 56ms/step - loss: 1.4712 - accuracy: 0.5997 - val_loss: 5.5368 - val_accuracy: 0.1471\n",
            "Epoch 26/100\n",
            "20/20 [==============================] - 1s 55ms/step - loss: 1.2040 - accuracy: 0.6389 - val_loss: 6.1638 - val_accuracy: 0.1324\n",
            "Epoch 27/100\n",
            "20/20 [==============================] - 1s 55ms/step - loss: 1.6349 - accuracy: 0.5694 - val_loss: 2.7912 - val_accuracy: 0.3824\n",
            "Epoch 28/100\n",
            "20/20 [==============================] - 1s 56ms/step - loss: 1.5743 - accuracy: 0.5547 - val_loss: 2.9078 - val_accuracy: 0.3750\n",
            "Epoch 29/100\n",
            "20/20 [==============================] - 1s 55ms/step - loss: 1.1644 - accuracy: 0.6552 - val_loss: 3.1097 - val_accuracy: 0.4118\n",
            "Epoch 30/100\n",
            "20/20 [==============================] - 1s 55ms/step - loss: 1.4241 - accuracy: 0.6168 - val_loss: 3.6985 - val_accuracy: 0.3897\n",
            "Epoch 31/100\n",
            "20/20 [==============================] - 1s 55ms/step - loss: 1.1352 - accuracy: 0.6528 - val_loss: 3.2617 - val_accuracy: 0.3824\n",
            "Epoch 32/100\n",
            "20/20 [==============================] - 1s 54ms/step - loss: 1.0966 - accuracy: 0.6806 - val_loss: 3.4147 - val_accuracy: 0.4191\n",
            "Epoch 33/100\n",
            "20/20 [==============================] - 1s 54ms/step - loss: 1.6409 - accuracy: 0.6005 - val_loss: 2.6116 - val_accuracy: 0.3971\n",
            "Epoch 34/100\n",
            "20/20 [==============================] - 1s 55ms/step - loss: 1.7711 - accuracy: 0.5670 - val_loss: 5.0794 - val_accuracy: 0.3235\n",
            "Epoch 35/100\n",
            "20/20 [==============================] - 1s 55ms/step - loss: 1.1984 - accuracy: 0.6560 - val_loss: 3.5345 - val_accuracy: 0.4485\n",
            "Epoch 36/100\n",
            "20/20 [==============================] - 1s 54ms/step - loss: 1.1952 - accuracy: 0.6609 - val_loss: 3.2375 - val_accuracy: 0.4559\n",
            "Epoch 37/100\n",
            "20/20 [==============================] - 1s 55ms/step - loss: 1.4112 - accuracy: 0.6217 - val_loss: 3.2074 - val_accuracy: 0.4412\n",
            "Epoch 38/100\n",
            "20/20 [==============================] - 1s 57ms/step - loss: 1.2439 - accuracy: 0.6536 - val_loss: 3.3765 - val_accuracy: 0.4118\n",
            "Epoch 39/100\n",
            "20/20 [==============================] - 1s 55ms/step - loss: 1.0248 - accuracy: 0.6969 - val_loss: 2.4866 - val_accuracy: 0.5441\n",
            "Epoch 40/100\n",
            "20/20 [==============================] - 1s 55ms/step - loss: 0.8690 - accuracy: 0.7402 - val_loss: 2.6584 - val_accuracy: 0.5147\n",
            "Epoch 41/100\n",
            "20/20 [==============================] - 1s 57ms/step - loss: 0.7557 - accuracy: 0.7631 - val_loss: 3.1772 - val_accuracy: 0.5294\n",
            "Epoch 42/100\n",
            "20/20 [==============================] - 1s 55ms/step - loss: 0.7594 - accuracy: 0.7745 - val_loss: 3.1208 - val_accuracy: 0.4706\n",
            "Epoch 43/100\n",
            "20/20 [==============================] - 1s 56ms/step - loss: 1.2387 - accuracy: 0.6855 - val_loss: 4.0646 - val_accuracy: 0.4632\n",
            "Epoch 44/100\n",
            "20/20 [==============================] - 1s 56ms/step - loss: 0.8746 - accuracy: 0.7737 - val_loss: 3.1215 - val_accuracy: 0.4706\n",
            "Epoch 45/100\n",
            "20/20 [==============================] - 1s 56ms/step - loss: 0.7875 - accuracy: 0.7712 - val_loss: 2.8555 - val_accuracy: 0.5368\n",
            "Epoch 46/100\n",
            "20/20 [==============================] - 1s 55ms/step - loss: 0.5824 - accuracy: 0.8170 - val_loss: 3.7133 - val_accuracy: 0.4118\n",
            "Epoch 47/100\n",
            "20/20 [==============================] - 1s 55ms/step - loss: 0.6674 - accuracy: 0.8023 - val_loss: 3.8820 - val_accuracy: 0.3897\n",
            "Epoch 48/100\n",
            "20/20 [==============================] - 1s 55ms/step - loss: 0.6246 - accuracy: 0.8333 - val_loss: 2.7938 - val_accuracy: 0.4559\n",
            "Epoch 49/100\n",
            "20/20 [==============================] - 1s 57ms/step - loss: 0.6091 - accuracy: 0.8105 - val_loss: 4.8216 - val_accuracy: 0.3971\n",
            "Epoch 50/100\n",
            "20/20 [==============================] - 1s 55ms/step - loss: 0.8266 - accuracy: 0.7819 - val_loss: 4.1719 - val_accuracy: 0.3750\n",
            "Epoch 51/100\n",
            "20/20 [==============================] - 1s 57ms/step - loss: 0.8746 - accuracy: 0.7663 - val_loss: 3.9302 - val_accuracy: 0.4559\n",
            "Epoch 52/100\n",
            "20/20 [==============================] - 1s 56ms/step - loss: 0.9203 - accuracy: 0.7712 - val_loss: 6.3166 - val_accuracy: 0.3750\n",
            "Epoch 53/100\n",
            "20/20 [==============================] - 1s 57ms/step - loss: 0.6287 - accuracy: 0.8088 - val_loss: 3.4337 - val_accuracy: 0.5441\n",
            "Epoch 54/100\n",
            "20/20 [==============================] - 1s 55ms/step - loss: 0.5146 - accuracy: 0.8578 - val_loss: 2.6417 - val_accuracy: 0.5882\n",
            "Epoch 55/100\n",
            "20/20 [==============================] - 1s 56ms/step - loss: 0.5387 - accuracy: 0.8513 - val_loss: 3.8438 - val_accuracy: 0.5294\n",
            "Epoch 56/100\n",
            "20/20 [==============================] - 1s 55ms/step - loss: 0.6931 - accuracy: 0.8399 - val_loss: 2.6013 - val_accuracy: 0.5662\n",
            "Epoch 57/100\n",
            "20/20 [==============================] - 1s 53ms/step - loss: 0.6311 - accuracy: 0.8366 - val_loss: 2.5488 - val_accuracy: 0.6397\n",
            "Epoch 58/100\n",
            "20/20 [==============================] - 1s 55ms/step - loss: 0.9441 - accuracy: 0.7770 - val_loss: 3.0984 - val_accuracy: 0.5956\n",
            "Epoch 59/100\n",
            "20/20 [==============================] - 1s 55ms/step - loss: 0.9898 - accuracy: 0.7435 - val_loss: 6.1737 - val_accuracy: 0.2794\n",
            "Epoch 60/100\n",
            "20/20 [==============================] - 1s 55ms/step - loss: 0.8843 - accuracy: 0.7672 - val_loss: 4.1981 - val_accuracy: 0.4412\n",
            "Epoch 61/100\n",
            "20/20 [==============================] - 1s 55ms/step - loss: 0.6497 - accuracy: 0.8292 - val_loss: 4.9495 - val_accuracy: 0.4412\n",
            "Epoch 62/100\n",
            "20/20 [==============================] - 1s 56ms/step - loss: 0.7085 - accuracy: 0.8317 - val_loss: 3.9075 - val_accuracy: 0.5074\n",
            "Epoch 63/100\n",
            "20/20 [==============================] - 1s 57ms/step - loss: 0.3506 - accuracy: 0.8905 - val_loss: 3.9055 - val_accuracy: 0.5221\n",
            "Epoch 64/100\n",
            "20/20 [==============================] - 1s 56ms/step - loss: 0.3788 - accuracy: 0.8987 - val_loss: 4.2047 - val_accuracy: 0.5588\n",
            "Epoch 65/100\n",
            "20/20 [==============================] - 1s 55ms/step - loss: 0.3606 - accuracy: 0.8962 - val_loss: 3.3548 - val_accuracy: 0.5441\n",
            "Epoch 66/100\n",
            "20/20 [==============================] - 1s 54ms/step - loss: 0.7540 - accuracy: 0.8342 - val_loss: 4.1197 - val_accuracy: 0.4706\n",
            "Epoch 67/100\n",
            "20/20 [==============================] - 1s 55ms/step - loss: 0.8031 - accuracy: 0.8178 - val_loss: 4.0120 - val_accuracy: 0.4338\n",
            "Epoch 68/100\n",
            "20/20 [==============================] - 1s 55ms/step - loss: 0.9372 - accuracy: 0.7582 - val_loss: 5.2175 - val_accuracy: 0.4485\n",
            "Epoch 69/100\n",
            "20/20 [==============================] - 1s 55ms/step - loss: 0.7326 - accuracy: 0.8113 - val_loss: 3.5627 - val_accuracy: 0.5074\n",
            "Epoch 70/100\n",
            "20/20 [==============================] - 1s 54ms/step - loss: 0.5833 - accuracy: 0.8391 - val_loss: 5.2460 - val_accuracy: 0.4265\n",
            "Epoch 71/100\n",
            "20/20 [==============================] - 1s 55ms/step - loss: 0.5306 - accuracy: 0.8505 - val_loss: 2.6572 - val_accuracy: 0.5809\n",
            "Epoch 72/100\n",
            "20/20 [==============================] - 1s 53ms/step - loss: 0.3252 - accuracy: 0.9085 - val_loss: 3.6527 - val_accuracy: 0.6103\n",
            "Epoch 73/100\n",
            "20/20 [==============================] - 1s 56ms/step - loss: 0.2539 - accuracy: 0.9248 - val_loss: 3.2840 - val_accuracy: 0.5662\n",
            "Epoch 74/100\n",
            "20/20 [==============================] - 1s 55ms/step - loss: 0.2397 - accuracy: 0.9216 - val_loss: 3.3737 - val_accuracy: 0.6250\n",
            "Epoch 75/100\n",
            "20/20 [==============================] - 1s 56ms/step - loss: 0.3523 - accuracy: 0.9085 - val_loss: 3.9630 - val_accuracy: 0.4926\n",
            "Epoch 76/100\n",
            "20/20 [==============================] - 1s 55ms/step - loss: 0.3381 - accuracy: 0.9142 - val_loss: 4.1476 - val_accuracy: 0.4926\n",
            "Epoch 77/100\n",
            "20/20 [==============================] - 1s 54ms/step - loss: 0.6386 - accuracy: 0.8587 - val_loss: 6.3507 - val_accuracy: 0.3897\n",
            "Epoch 78/100\n",
            "20/20 [==============================] - 1s 53ms/step - loss: 0.7836 - accuracy: 0.8235 - val_loss: 3.8321 - val_accuracy: 0.5956\n",
            "Epoch 79/100\n",
            "20/20 [==============================] - 1s 56ms/step - loss: 0.5198 - accuracy: 0.8554 - val_loss: 3.9413 - val_accuracy: 0.5809\n",
            "Epoch 80/100\n",
            "20/20 [==============================] - 1s 54ms/step - loss: 0.5257 - accuracy: 0.8783 - val_loss: 3.6644 - val_accuracy: 0.6103\n",
            "Epoch 81/100\n",
            "20/20 [==============================] - 1s 56ms/step - loss: 0.2136 - accuracy: 0.9330 - val_loss: 3.8597 - val_accuracy: 0.5588\n",
            "Epoch 82/100\n",
            "20/20 [==============================] - 1s 54ms/step - loss: 0.1843 - accuracy: 0.9444 - val_loss: 2.8593 - val_accuracy: 0.6765\n",
            "Epoch 83/100\n",
            "20/20 [==============================] - 1s 54ms/step - loss: 0.1132 - accuracy: 0.9600 - val_loss: 3.2563 - val_accuracy: 0.6691\n",
            "Epoch 84/100\n",
            "20/20 [==============================] - 1s 56ms/step - loss: 0.1586 - accuracy: 0.9551 - val_loss: 3.4432 - val_accuracy: 0.6544\n",
            "Epoch 85/100\n",
            "20/20 [==============================] - 1s 56ms/step - loss: 0.1987 - accuracy: 0.9559 - val_loss: 2.9043 - val_accuracy: 0.6691\n",
            "Epoch 86/100\n",
            "20/20 [==============================] - 1s 54ms/step - loss: 0.1674 - accuracy: 0.9493 - val_loss: 3.3071 - val_accuracy: 0.6618\n",
            "Epoch 87/100\n",
            "20/20 [==============================] - 1s 55ms/step - loss: 0.2561 - accuracy: 0.9436 - val_loss: 3.3031 - val_accuracy: 0.6471\n",
            "Epoch 88/100\n",
            "20/20 [==============================] - 1s 55ms/step - loss: 0.1630 - accuracy: 0.9436 - val_loss: 3.2337 - val_accuracy: 0.6471\n",
            "Epoch 89/100\n",
            "20/20 [==============================] - 1s 56ms/step - loss: 0.2037 - accuracy: 0.9477 - val_loss: 3.3558 - val_accuracy: 0.6618\n",
            "Epoch 90/100\n",
            "20/20 [==============================] - 1s 55ms/step - loss: 0.1237 - accuracy: 0.9632 - val_loss: 3.0351 - val_accuracy: 0.6471\n",
            "Epoch 91/100\n",
            "20/20 [==============================] - 1s 55ms/step - loss: 0.0712 - accuracy: 0.9730 - val_loss: 3.0741 - val_accuracy: 0.6838\n",
            "Epoch 92/100\n",
            "20/20 [==============================] - 1s 55ms/step - loss: 0.1004 - accuracy: 0.9706 - val_loss: 3.5164 - val_accuracy: 0.6471\n",
            "Epoch 93/100\n",
            "20/20 [==============================] - 1s 55ms/step - loss: 0.3753 - accuracy: 0.9109 - val_loss: 4.9261 - val_accuracy: 0.5735\n",
            "Epoch 94/100\n",
            "20/20 [==============================] - 1s 55ms/step - loss: 0.4015 - accuracy: 0.9077 - val_loss: 4.0118 - val_accuracy: 0.5956\n",
            "Epoch 95/100\n",
            "20/20 [==============================] - 1s 54ms/step - loss: 0.3904 - accuracy: 0.9175 - val_loss: 3.4085 - val_accuracy: 0.6618\n",
            "Epoch 96/100\n",
            "20/20 [==============================] - 1s 56ms/step - loss: 0.2595 - accuracy: 0.9395 - val_loss: 3.2678 - val_accuracy: 0.6691\n",
            "Epoch 97/100\n",
            "20/20 [==============================] - 1s 54ms/step - loss: 0.3593 - accuracy: 0.9175 - val_loss: 3.1108 - val_accuracy: 0.6250\n",
            "Epoch 98/100\n",
            "20/20 [==============================] - 1s 56ms/step - loss: 0.4087 - accuracy: 0.9060 - val_loss: 6.1054 - val_accuracy: 0.5221\n",
            "Epoch 99/100\n",
            "20/20 [==============================] - 1s 56ms/step - loss: 0.5433 - accuracy: 0.8962 - val_loss: 5.6526 - val_accuracy: 0.5515\n",
            "Epoch 100/100\n",
            "20/20 [==============================] - 1s 54ms/step - loss: 0.2329 - accuracy: 0.9363 - val_loss: 3.5292 - val_accuracy: 0.5882\n"
          ],
          "name": "stdout"
        },
        {
          "output_type": "execute_result",
          "data": {
            "text/plain": [
              "<keras.callbacks.History at 0x7f8d062721d0>"
            ]
          },
          "metadata": {},
          "execution_count": 8
        }
      ]
    }
  ]
}