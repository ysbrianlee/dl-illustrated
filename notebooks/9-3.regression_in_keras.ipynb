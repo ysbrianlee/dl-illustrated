{
  "nbformat": 4,
  "nbformat_minor": 0,
  "metadata": {
    "kernelspec": {
      "display_name": "TensorFlow 2.3 on Python 3.6 (CUDA 10.1)",
      "language": "python",
      "name": "python3"
    },
    "language_info": {
      "codemirror_mode": {
        "name": "ipython",
        "version": 3
      },
      "file_extension": ".py",
      "mimetype": "text/x-python",
      "name": "python",
      "nbconvert_exporter": "python",
      "pygments_lexer": "ipython3",
      "version": "3.6.9"
    },
    "colab": {
      "name": "9-3.regression_in_keras.ipynb",
      "provenance": []
    },
    "accelerator": "GPU"
  },
  "cells": [
    {
      "cell_type": "markdown",
      "metadata": {
        "id": "UpXTEaeLzrnO"
      },
      "source": [
        "# 케라스로 만드는 회귀 예제\n",
        "\n",
        "매사추세츠 보스턴 지역의 주택 가격 예측하기"
      ]
    },
    {
      "cell_type": "markdown",
      "metadata": {
        "id": "VN3WDCrAzrnW"
      },
      "source": [
        "[![Open In Colab](https://colab.research.google.com/assets/colab-badge.svg)](https://colab.research.google.com/github/rickiepark/dl-illustrated/blob/master/notebooks/9-3.regression_in_keras.ipynb)"
      ]
    },
    {
      "cell_type": "markdown",
      "metadata": {
        "id": "uFI37QNkzrnW"
      },
      "source": [
        "#### 라이브러리를 적재합니다."
      ]
    },
    {
      "cell_type": "code",
      "metadata": {
        "id": "qBzBQb-szrnW"
      },
      "source": [
        "import numpy as np\n",
        "from tensorflow.keras.datasets import boston_housing\n",
        "from tensorflow.keras.models import Sequential\n",
        "from tensorflow.keras.layers import Dense, Dropout \n",
        "from tensorflow.keras.layers import BatchNormalization "
      ],
      "execution_count": 1,
      "outputs": []
    },
    {
      "cell_type": "markdown",
      "metadata": {
        "id": "5AZDseSwzrnX"
      },
      "source": [
        "#### 데이터를 적재합니다."
      ]
    },
    {
      "cell_type": "code",
      "metadata": {
        "id": "DZZvCNg3zrnX",
        "colab": {
          "base_uri": "https://localhost:8080/"
        },
        "outputId": "07cac154-53a2-46d6-a202-6a1cf49d5ee8"
      },
      "source": [
        "(X_train, y_train), (X_valid, y_valid) = boston_housing.load_data()"
      ],
      "execution_count": 2,
      "outputs": [
        {
          "output_type": "stream",
          "text": [
            "Downloading data from https://storage.googleapis.com/tensorflow/tf-keras-datasets/boston_housing.npz\n",
            "57344/57026 [==============================] - 0s 0us/step\n",
            "65536/57026 [==================================] - 0s 0us/step\n"
          ],
          "name": "stdout"
        }
      ]
    },
    {
      "cell_type": "code",
      "metadata": {
        "id": "tvr-XETbzrnX",
        "colab": {
          "base_uri": "https://localhost:8080/"
        },
        "outputId": "956bb38f-8575-421c-f573-bc4e097ad1a5"
      },
      "source": [
        "X_train.shape"
      ],
      "execution_count": 3,
      "outputs": [
        {
          "output_type": "execute_result",
          "data": {
            "text/plain": [
              "(404, 13)"
            ]
          },
          "metadata": {},
          "execution_count": 3
        }
      ]
    },
    {
      "cell_type": "code",
      "metadata": {
        "id": "snbtcHYozrnY",
        "colab": {
          "base_uri": "https://localhost:8080/"
        },
        "outputId": "eec69f96-b035-450c-e6d7-bc794d4e940b"
      },
      "source": [
        "X_valid.shape"
      ],
      "execution_count": 4,
      "outputs": [
        {
          "output_type": "execute_result",
          "data": {
            "text/plain": [
              "(102, 13)"
            ]
          },
          "metadata": {},
          "execution_count": 4
        }
      ]
    },
    {
      "cell_type": "code",
      "metadata": {
        "id": "JwaxiBmlzrnY",
        "colab": {
          "base_uri": "https://localhost:8080/"
        },
        "outputId": "ea24c54f-bfd8-4a23-8592-5cd3de11be73"
      },
      "source": [
        "X_train[0]"
      ],
      "execution_count": 5,
      "outputs": [
        {
          "output_type": "execute_result",
          "data": {
            "text/plain": [
              "array([  1.23247,   0.     ,   8.14   ,   0.     ,   0.538  ,   6.142  ,\n",
              "        91.7    ,   3.9769 ,   4.     , 307.     ,  21.     , 396.9    ,\n",
              "        18.72   ])"
            ]
          },
          "metadata": {},
          "execution_count": 5
        }
      ]
    },
    {
      "cell_type": "code",
      "metadata": {
        "id": "d95L3aOezrnZ",
        "colab": {
          "base_uri": "https://localhost:8080/"
        },
        "outputId": "5a44a3cd-d19f-4af0-966f-faca259ae887"
      },
      "source": [
        "y_train[0]"
      ],
      "execution_count": 6,
      "outputs": [
        {
          "output_type": "execute_result",
          "data": {
            "text/plain": [
              "15.2"
            ]
          },
          "metadata": {},
          "execution_count": 6
        }
      ]
    },
    {
      "cell_type": "markdown",
      "metadata": {
        "id": "e73SbGiKzrnZ"
      },
      "source": [
        "#### 신경망을 만듭니다."
      ]
    },
    {
      "cell_type": "code",
      "metadata": {
        "id": "trObx-ftzrnZ"
      },
      "source": [
        "model = Sequential()\n",
        "\n",
        "model.add(Dense(32, input_dim=13, activation='relu'))\n",
        "model.add(BatchNormalization())\n",
        "\n",
        "model.add(Dense(16, activation='relu'))\n",
        "model.add(BatchNormalization())\n",
        "model.add(Dropout(0.2))\n",
        "\n",
        "model.add(Dense(1, activation='linear'))"
      ],
      "execution_count": 7,
      "outputs": []
    },
    {
      "cell_type": "code",
      "metadata": {
        "id": "HabREuUkzrna",
        "colab": {
          "base_uri": "https://localhost:8080/"
        },
        "outputId": "9b00e015-22b7-4cba-a457-0475ce4ba5d2"
      },
      "source": [
        "model.summary()"
      ],
      "execution_count": 8,
      "outputs": [
        {
          "output_type": "stream",
          "text": [
            "Model: \"sequential\"\n",
            "_________________________________________________________________\n",
            "Layer (type)                 Output Shape              Param #   \n",
            "=================================================================\n",
            "dense (Dense)                (None, 32)                448       \n",
            "_________________________________________________________________\n",
            "batch_normalization (BatchNo (None, 32)                128       \n",
            "_________________________________________________________________\n",
            "dense_1 (Dense)              (None, 16)                528       \n",
            "_________________________________________________________________\n",
            "batch_normalization_1 (Batch (None, 16)                64        \n",
            "_________________________________________________________________\n",
            "dropout (Dropout)            (None, 16)                0         \n",
            "_________________________________________________________________\n",
            "dense_2 (Dense)              (None, 1)                 17        \n",
            "=================================================================\n",
            "Total params: 1,185\n",
            "Trainable params: 1,089\n",
            "Non-trainable params: 96\n",
            "_________________________________________________________________\n"
          ],
          "name": "stdout"
        }
      ]
    },
    {
      "cell_type": "markdown",
      "metadata": {
        "id": "6FF2nyQ6zrna"
      },
      "source": [
        "#### 모델을 설정합니다."
      ]
    },
    {
      "cell_type": "code",
      "metadata": {
        "id": "Tm5zaQifzrna"
      },
      "source": [
        "model.compile(loss='mean_squared_error', optimizer='adam')"
      ],
      "execution_count": 9,
      "outputs": []
    },
    {
      "cell_type": "markdown",
      "metadata": {
        "id": "CCebUVgXzrna"
      },
      "source": [
        "#### 훈련!"
      ]
    },
    {
      "cell_type": "code",
      "metadata": {
        "id": "LyjT4M-czrnb",
        "colab": {
          "base_uri": "https://localhost:8080/"
        },
        "outputId": "e4584915-e954-4c7d-d48a-d126ecfa881b"
      },
      "source": [
        "model.fit(X_train, y_train, \n",
        "          batch_size=8, epochs=32, verbose=1, \n",
        "          validation_data=(X_valid, y_valid))"
      ],
      "execution_count": 10,
      "outputs": [
        {
          "output_type": "stream",
          "text": [
            "Epoch 1/32\n",
            "51/51 [==============================] - 4s 6ms/step - loss: 575.7288 - val_loss: 494.8179\n",
            "Epoch 2/32\n",
            "51/51 [==============================] - 0s 3ms/step - loss: 557.1564 - val_loss: 532.9940\n",
            "Epoch 3/32\n",
            "51/51 [==============================] - 0s 3ms/step - loss: 531.9257 - val_loss: 530.0030\n",
            "Epoch 4/32\n",
            "51/51 [==============================] - 0s 4ms/step - loss: 512.2894 - val_loss: 506.3087\n",
            "Epoch 5/32\n",
            "51/51 [==============================] - 0s 3ms/step - loss: 487.4211 - val_loss: 448.8723\n",
            "Epoch 6/32\n",
            "51/51 [==============================] - 0s 3ms/step - loss: 455.5810 - val_loss: 485.6788\n",
            "Epoch 7/32\n",
            "51/51 [==============================] - 0s 3ms/step - loss: 419.4465 - val_loss: 310.2413\n",
            "Epoch 8/32\n",
            "51/51 [==============================] - 0s 4ms/step - loss: 387.2958 - val_loss: 267.8098\n",
            "Epoch 9/32\n",
            "51/51 [==============================] - 0s 3ms/step - loss: 339.8122 - val_loss: 311.0272\n",
            "Epoch 10/32\n",
            "51/51 [==============================] - 0s 3ms/step - loss: 305.2746 - val_loss: 233.3712\n",
            "Epoch 11/32\n",
            "51/51 [==============================] - 0s 3ms/step - loss: 270.4912 - val_loss: 281.5069\n",
            "Epoch 12/32\n",
            "51/51 [==============================] - 0s 3ms/step - loss: 227.7519 - val_loss: 275.9908\n",
            "Epoch 13/32\n",
            "51/51 [==============================] - 0s 3ms/step - loss: 198.2856 - val_loss: 188.0402\n",
            "Epoch 14/32\n",
            "51/51 [==============================] - 0s 4ms/step - loss: 158.8078 - val_loss: 214.8496\n",
            "Epoch 15/32\n",
            "51/51 [==============================] - 0s 3ms/step - loss: 133.5018 - val_loss: 151.0499\n",
            "Epoch 16/32\n",
            "51/51 [==============================] - 0s 3ms/step - loss: 112.4805 - val_loss: 103.8875\n",
            "Epoch 17/32\n",
            "51/51 [==============================] - 0s 4ms/step - loss: 90.9177 - val_loss: 107.5287\n",
            "Epoch 18/32\n",
            "51/51 [==============================] - 0s 3ms/step - loss: 73.4059 - val_loss: 38.2791\n",
            "Epoch 19/32\n",
            "51/51 [==============================] - 0s 3ms/step - loss: 69.5148 - val_loss: 80.0798\n",
            "Epoch 20/32\n",
            "51/51 [==============================] - 0s 3ms/step - loss: 66.9678 - val_loss: 61.8085\n",
            "Epoch 21/32\n",
            "51/51 [==============================] - 0s 3ms/step - loss: 53.7847 - val_loss: 48.8348\n",
            "Epoch 22/32\n",
            "51/51 [==============================] - 0s 3ms/step - loss: 52.5232 - val_loss: 36.8898\n",
            "Epoch 23/32\n",
            "51/51 [==============================] - 0s 3ms/step - loss: 46.7205 - val_loss: 29.0308\n",
            "Epoch 24/32\n",
            "51/51 [==============================] - 0s 3ms/step - loss: 45.2147 - val_loss: 23.9482\n",
            "Epoch 25/32\n",
            "51/51 [==============================] - 0s 3ms/step - loss: 45.7181 - val_loss: 201.4805\n",
            "Epoch 26/32\n",
            "51/51 [==============================] - 0s 3ms/step - loss: 46.1067 - val_loss: 40.9171\n",
            "Epoch 27/32\n",
            "51/51 [==============================] - 0s 3ms/step - loss: 42.4676 - val_loss: 26.6903\n",
            "Epoch 28/32\n",
            "51/51 [==============================] - 0s 4ms/step - loss: 47.0170 - val_loss: 50.3594\n",
            "Epoch 29/32\n",
            "51/51 [==============================] - 0s 4ms/step - loss: 46.1571 - val_loss: 34.9482\n",
            "Epoch 30/32\n",
            "51/51 [==============================] - 0s 3ms/step - loss: 45.6581 - val_loss: 27.5709\n",
            "Epoch 31/32\n",
            "51/51 [==============================] - 0s 3ms/step - loss: 37.8261 - val_loss: 43.3836\n",
            "Epoch 32/32\n",
            "51/51 [==============================] - 0s 3ms/step - loss: 38.4133 - val_loss: 37.2907\n"
          ],
          "name": "stdout"
        },
        {
          "output_type": "execute_result",
          "data": {
            "text/plain": [
              "<keras.callbacks.History at 0x7f8640192950>"
            ]
          },
          "metadata": {},
          "execution_count": 10
        }
      ]
    },
    {
      "cell_type": "code",
      "metadata": {
        "id": "rJkI2p1Dzrnb",
        "colab": {
          "base_uri": "https://localhost:8080/"
        },
        "outputId": "6d19ccb1-1e61-4f2d-9ed8-f53371296386"
      },
      "source": [
        "X_valid[42]"
      ],
      "execution_count": 11,
      "outputs": [
        {
          "output_type": "execute_result",
          "data": {
            "text/plain": [
              "array([  9.32909,   0.     ,  18.1    ,   0.     ,   0.713  ,   6.185  ,\n",
              "        98.7    ,   2.2616 ,  24.     , 666.     ,  20.2    , 396.9    ,\n",
              "        18.13   ])"
            ]
          },
          "metadata": {},
          "execution_count": 11
        }
      ]
    },
    {
      "cell_type": "code",
      "metadata": {
        "id": "DxL1_WQqzrnc",
        "colab": {
          "base_uri": "https://localhost:8080/"
        },
        "outputId": "6d7848f2-768a-4f88-9f48-259053c5f9fa"
      },
      "source": [
        "y_valid[42]"
      ],
      "execution_count": 12,
      "outputs": [
        {
          "output_type": "execute_result",
          "data": {
            "text/plain": [
              "14.1"
            ]
          },
          "metadata": {},
          "execution_count": 12
        }
      ]
    },
    {
      "cell_type": "code",
      "metadata": {
        "id": "TCY9v_ejzrnc",
        "colab": {
          "base_uri": "https://localhost:8080/"
        },
        "outputId": "aac7f3d8-4ea4-4ace-ec50-f48068d37278"
      },
      "source": [
        "model.predict(np.reshape(X_valid[42], [1, 13]))"
      ],
      "execution_count": 13,
      "outputs": [
        {
          "output_type": "execute_result",
          "data": {
            "text/plain": [
              "array([[18.956938]], dtype=float32)"
            ]
          },
          "metadata": {},
          "execution_count": 13
        }
      ]
    }
  ]
}