{
  "nbformat": 4,
  "nbformat_minor": 0,
  "metadata": {
    "kernelspec": {
      "display_name": "TensorFlow 2.3 on Python 3.6 (CUDA 10.1)",
      "language": "python",
      "name": "python3"
    },
    "language_info": {
      "codemirror_mode": {
        "name": "ipython",
        "version": 3
      },
      "file_extension": ".py",
      "mimetype": "text/x-python",
      "name": "python",
      "nbconvert_exporter": "python",
      "pygments_lexer": "ipython3",
      "version": "3.6.9"
    },
    "colab": {
      "name": "11-6.bi_lstm_sentiment_classifier.ipynb",
      "provenance": []
    },
    "accelerator": "GPU"
  },
  "cells": [
    {
      "cell_type": "markdown",
      "metadata": {
        "id": "jqMY1A0ut70x"
      },
      "source": [
        "# 양방향 LSTM 감성 분류기"
      ]
    },
    {
      "cell_type": "markdown",
      "metadata": {
        "id": "UTHMNabDt701"
      },
      "source": [
        "이 노트북에서 *양방향* LSTM을 만들어 감성에 따라 IMDB 영화 리뷰를 분류합니다."
      ]
    },
    {
      "cell_type": "markdown",
      "metadata": {
        "id": "94L0jGEft701"
      },
      "source": [
        "[![Open In Colab](https://colab.research.google.com/assets/colab-badge.svg)](https://colab.research.google.com/github/rickiepark/dl-illustrated/blob/master/notebooks/11-6.bi_lstm_sentiment_classifier.ipynb)"
      ]
    },
    {
      "cell_type": "markdown",
      "metadata": {
        "id": "9ksCVoEut701"
      },
      "source": [
        "#### 라이브러리 적재"
      ]
    },
    {
      "cell_type": "code",
      "metadata": {
        "id": "jJYPAGVQt702"
      },
      "source": [
        "from tensorflow import keras\n",
        "from tensorflow.keras.datasets import imdb\n",
        "from tensorflow.keras.preprocessing.sequence import pad_sequences\n",
        "from tensorflow.keras.models import Sequential\n",
        "from tensorflow.keras.layers import Dense, Dropout, Embedding, SpatialDropout1D, LSTM\n",
        "from tensorflow.keras.layers import Bidirectional # new! \n",
        "from tensorflow.keras.callbacks import ModelCheckpoint\n",
        "import os\n",
        "from sklearn.metrics import roc_auc_score \n",
        "import matplotlib.pyplot as plt \n",
        "%matplotlib inline"
      ],
      "execution_count": 1,
      "outputs": []
    },
    {
      "cell_type": "markdown",
      "metadata": {
        "id": "I2CbnSalt702"
      },
      "source": [
        "#### 하이퍼파라미터 설정"
      ]
    },
    {
      "cell_type": "code",
      "metadata": {
        "id": "CpELYZDPt702"
      },
      "source": [
        "# 출력 디렉토리\n",
        "output_dir = 'model_output/biLSTM'\n",
        "\n",
        "# 훈련\n",
        "epochs = 6\n",
        "batch_size = 128\n",
        "\n",
        "# 벡터 공간 임베딩\n",
        "n_dim = 64 \n",
        "n_unique_words = 10000 \n",
        "max_review_length = 200 # 두베!\n",
        "pad_type = trunc_type = 'pre'\n",
        "drop_embed = 0.2 \n",
        "\n",
        "# LSTM 층 구조\n",
        "n_lstm = 256 \n",
        "drop_lstm = 0.2"
      ],
      "execution_count": 2,
      "outputs": []
    },
    {
      "cell_type": "markdown",
      "metadata": {
        "id": "Ki8tpkjft703"
      },
      "source": [
        "#### 데이터 적재"
      ]
    },
    {
      "cell_type": "code",
      "metadata": {
        "id": "OLH6E5Wat703",
        "colab": {
          "base_uri": "https://localhost:8080/"
        },
        "outputId": "b7c3d73a-4a95-4b13-ef95-d1f795036ab9"
      },
      "source": [
        "(x_train, y_train), (x_valid, y_valid) = imdb.load_data(num_words=n_unique_words) # n_words_to_skip 삭제"
      ],
      "execution_count": 3,
      "outputs": [
        {
          "output_type": "stream",
          "text": [
            "Downloading data from https://storage.googleapis.com/tensorflow/tf-keras-datasets/imdb.npz\n",
            "17465344/17464789 [==============================] - 0s 0us/step\n",
            "17473536/17464789 [==============================] - 0s 0us/step\n"
          ],
          "name": "stdout"
        }
      ]
    },
    {
      "cell_type": "markdown",
      "metadata": {
        "id": "XVkBZCMUt703"
      },
      "source": [
        "#### 데이터 전처리"
      ]
    },
    {
      "cell_type": "code",
      "metadata": {
        "id": "NyYU0OqGt703"
      },
      "source": [
        "x_train = pad_sequences(x_train, maxlen=max_review_length, padding=pad_type, truncating=trunc_type, value=0)\n",
        "x_valid = pad_sequences(x_valid, maxlen=max_review_length, padding=pad_type, truncating=trunc_type, value=0)"
      ],
      "execution_count": 4,
      "outputs": []
    },
    {
      "cell_type": "markdown",
      "metadata": {
        "collapsed": true,
        "id": "NVJhEcK7t703"
      },
      "source": [
        "#### 신경망 만들기"
      ]
    },
    {
      "cell_type": "code",
      "metadata": {
        "id": "G7MUVnwNt704"
      },
      "source": [
        "model = Sequential()\n",
        "model.add(Embedding(n_unique_words, n_dim, input_length=max_review_length)) \n",
        "model.add(SpatialDropout1D(drop_embed))\n",
        "model.add(Bidirectional(LSTM(n_lstm, dropout=drop_lstm)))\n",
        "model.add(Dense(1, activation='sigmoid'))"
      ],
      "execution_count": 5,
      "outputs": []
    },
    {
      "cell_type": "code",
      "metadata": {
        "id": "lRZjI_1zt704",
        "colab": {
          "base_uri": "https://localhost:8080/"
        },
        "outputId": "787d5dec-6a3e-4ecc-94c8-cd1a40c566c5"
      },
      "source": [
        "# 양 방향으로 가중치가 있기 때문에 LSTM 층 파라미터가 두 배가 됩니다.\n",
        "model.summary() "
      ],
      "execution_count": 6,
      "outputs": [
        {
          "output_type": "stream",
          "text": [
            "Model: \"sequential\"\n",
            "_________________________________________________________________\n",
            "Layer (type)                 Output Shape              Param #   \n",
            "=================================================================\n",
            "embedding (Embedding)        (None, 200, 64)           640000    \n",
            "_________________________________________________________________\n",
            "spatial_dropout1d (SpatialDr (None, 200, 64)           0         \n",
            "_________________________________________________________________\n",
            "bidirectional (Bidirectional (None, 512)               657408    \n",
            "_________________________________________________________________\n",
            "dense (Dense)                (None, 1)                 513       \n",
            "=================================================================\n",
            "Total params: 1,297,921\n",
            "Trainable params: 1,297,921\n",
            "Non-trainable params: 0\n",
            "_________________________________________________________________\n"
          ],
          "name": "stdout"
        }
      ]
    },
    {
      "cell_type": "markdown",
      "metadata": {
        "id": "5NIlx8HXt704"
      },
      "source": [
        "#### 모델 설정"
      ]
    },
    {
      "cell_type": "code",
      "metadata": {
        "id": "-46STerot705"
      },
      "source": [
        "model.compile(loss='binary_crossentropy', optimizer='adam', metrics=['accuracy'])"
      ],
      "execution_count": 7,
      "outputs": []
    },
    {
      "cell_type": "code",
      "metadata": {
        "id": "4DFs0E_Et705"
      },
      "source": [
        "modelcheckpoint = ModelCheckpoint(filepath=output_dir+\"/weights.{epoch:02d}.hdf5\")\n",
        "if not os.path.exists(output_dir):\n",
        "    os.makedirs(output_dir)"
      ],
      "execution_count": 8,
      "outputs": []
    },
    {
      "cell_type": "markdown",
      "metadata": {
        "id": "f_lLNZADt705"
      },
      "source": [
        "#### 훈련!"
      ]
    },
    {
      "cell_type": "code",
      "metadata": {
        "id": "cGv6vIgRt705",
        "colab": {
          "base_uri": "https://localhost:8080/"
        },
        "outputId": "513a9ae3-0a5d-4081-d270-f794cc673cc6"
      },
      "source": [
        "# 데이터셋이 작기 때문에 긴 문장에 걸쳐 단어의 복잡한 상호작용이 잘 학습되지 않습니다.\n",
        "# CNN은 리뷰의 감성을 예측하는 위치에 상관없는 2개에서 4개까지 단어 조각을 선택합니다.\n",
        "# 이 작업이 더 간단하기 때문에 데이터에서 학습하기 쉽습니다.\n",
        "# 따라서 CNN이 IMDB 데이터셋에서 성능이 더 좋습니다.\n",
        "model.fit(x_train, y_train, batch_size=batch_size, epochs=epochs, verbose=1, validation_data=(x_valid, y_valid), callbacks=[modelcheckpoint])"
      ],
      "execution_count": 9,
      "outputs": [
        {
          "output_type": "stream",
          "text": [
            "Epoch 1/6\n",
            "196/196 [==============================] - 23s 73ms/step - loss: 0.5546 - accuracy: 0.7155 - val_loss: 0.3904 - val_accuracy: 0.8352\n",
            "Epoch 2/6\n",
            "196/196 [==============================] - 14s 70ms/step - loss: 0.3039 - accuracy: 0.8784 - val_loss: 0.3222 - val_accuracy: 0.8629\n",
            "Epoch 3/6\n",
            "196/196 [==============================] - 14s 70ms/step - loss: 0.2484 - accuracy: 0.9056 - val_loss: 0.3164 - val_accuracy: 0.8713\n",
            "Epoch 4/6\n",
            "196/196 [==============================] - 14s 70ms/step - loss: 0.1846 - accuracy: 0.9314 - val_loss: 0.3400 - val_accuracy: 0.8687\n",
            "Epoch 5/6\n",
            "196/196 [==============================] - 14s 71ms/step - loss: 0.1525 - accuracy: 0.9462 - val_loss: 0.3712 - val_accuracy: 0.8656\n",
            "Epoch 6/6\n",
            "196/196 [==============================] - 14s 71ms/step - loss: 0.1332 - accuracy: 0.9526 - val_loss: 0.3941 - val_accuracy: 0.8628\n"
          ],
          "name": "stdout"
        },
        {
          "output_type": "execute_result",
          "data": {
            "text/plain": [
              "<keras.callbacks.History at 0x7fc9ee122a10>"
            ]
          },
          "metadata": {},
          "execution_count": 9
        }
      ]
    },
    {
      "cell_type": "markdown",
      "metadata": {
        "collapsed": true,
        "id": "v2s_iNBat705"
      },
      "source": [
        "#### 평가"
      ]
    },
    {
      "cell_type": "code",
      "metadata": {
        "id": "XxmeMhdqt705"
      },
      "source": [
        "model.load_weights(output_dir+\"/weights.04.hdf5\") "
      ],
      "execution_count": 10,
      "outputs": []
    },
    {
      "cell_type": "code",
      "metadata": {
        "id": "L10_WLaBt706"
      },
      "source": [
        "y_hat = model.predict(x_valid)"
      ],
      "execution_count": 11,
      "outputs": []
    },
    {
      "cell_type": "code",
      "metadata": {
        "id": "HaMMUWICt706",
        "colab": {
          "base_uri": "https://localhost:8080/",
          "height": 265
        },
        "outputId": "81fa477a-e803-4dfb-f477-1db0908f89c6"
      },
      "source": [
        "plt.hist(y_hat)\n",
        "_ = plt.axvline(x=0.5, color='orange')"
      ],
      "execution_count": 12,
      "outputs": [
        {
          "output_type": "display_data",
          "data": {
            "image/png": "[encoded data removed]",
            "text/plain": [
              "<Figure size 432x288 with 1 Axes>"
            ]
          },
          "metadata": {
            "needs_background": "light"
          }
        }
      ]
    },
    {
      "cell_type": "code",
      "metadata": {
        "id": "S7kj1NQot706",
        "colab": {
          "base_uri": "https://localhost:8080/",
          "height": 35
        },
        "outputId": "8c4f3e8b-6054-4f5a-bf83-26559a6bcccf"
      },
      "source": [
        "\"{:0.2f}\".format(roc_auc_score(y_valid, y_hat)*100.0)"
      ],
      "execution_count": 13,
      "outputs": [
        {
          "output_type": "execute_result",
          "data": {
            "application/vnd.google.colaboratory.intrinsic+json": {
              "type": "string"
            },
            "text/plain": [
              "'94.25'"
            ]
          },
          "metadata": {},
          "execution_count": 13
        }
      ]
    }
  ]
}