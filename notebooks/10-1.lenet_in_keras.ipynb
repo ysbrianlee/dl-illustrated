{
  "nbformat": 4,
  "nbformat_minor": 0,
  "metadata": {
    "kernelspec": {
      "display_name": "TensorFlow 2.3 on Python 3.6 (CUDA 10.1)",
      "language": "python",
      "name": "python3"
    },
    "language_info": {
      "codemirror_mode": {
        "name": "ipython",
        "version": 3
      },
      "file_extension": ".py",
      "mimetype": "text/x-python",
      "name": "python",
      "nbconvert_exporter": "python",
      "pygments_lexer": "ipython3",
      "version": "3.6.9"
    },
    "colab": {
      "name": "10-1.lenet_in_keras.ipynb",
      "provenance": []
    },
    "accelerator": "GPU"
  },
  "cells": [
    {
      "cell_type": "markdown",
      "metadata": {
        "id": "UV3_mVndP6Hi"
      },
      "source": [
        "# 케라스로 심층 합성곱 신경망 만들기"
      ]
    },
    {
      "cell_type": "markdown",
      "metadata": {
        "id": "H2icE8zkP6Hm"
      },
      "source": [
        "이 노트북에서 [LeNet-5](http://yann.lecun.com/exdb/publis/pdf/lecun-01a.pdf)과 비슷한 MNIST 손글씨 숫자를 분류하는 심층 합성곱 신경망을 만듭니다."
      ]
    },
    {
      "cell_type": "markdown",
      "metadata": {
        "id": "G74ktsMRP6Hn"
      },
      "source": [
        "[![Open In Colab](https://colab.research.google.com/assets/colab-badge.svg)](https://colab.research.google.com/github/rickiepark/dl-illustrated/blob/master/notebooks/10-1.lenet_in_keras.ipynb)"
      ]
    },
    {
      "cell_type": "markdown",
      "metadata": {
        "id": "ivEeMRHrP6Hn"
      },
      "source": [
        "#### 라이브러를 적재합니다."
      ]
    },
    {
      "cell_type": "code",
      "metadata": {
        "id": "ma9EMkCAP6Hn"
      },
      "source": [
        "from tensorflow import keras\n",
        "from tensorflow.keras.datasets import mnist\n",
        "from tensorflow.keras.models import Sequential\n",
        "from tensorflow.keras.layers import Dense, Dropout\n",
        "from tensorflow.keras.layers import Flatten, Conv2D, MaxPooling2D # new!"
      ],
      "execution_count": 1,
      "outputs": []
    },
    {
      "cell_type": "markdown",
      "metadata": {
        "id": "SsTnIg6aP6Ho"
      },
      "source": [
        "#### 데이터를 적재합니다."
      ]
    },
    {
      "cell_type": "code",
      "metadata": {
        "id": "NRkMN0KJP6Ho",
        "colab": {
          "base_uri": "https://localhost:8080/"
        },
        "outputId": "73f3ad76-74d8-41d7-ac6e-62e11012d1e6"
      },
      "source": [
        "(X_train, y_train), (X_valid, y_valid) = mnist.load_data()"
      ],
      "execution_count": 2,
      "outputs": [
        {
          "output_type": "stream",
          "text": [
            "Downloading data from https://storage.googleapis.com/tensorflow/tf-keras-datasets/mnist.npz\n",
            "11493376/11490434 [==============================] - 0s 0us/step\n",
            "11501568/11490434 [==============================] - 0s 0us/step\n"
          ],
          "name": "stdout"
        }
      ]
    },
    {
      "cell_type": "markdown",
      "metadata": {
        "id": "Hkf9icAJP6Hp"
      },
      "source": [
        "#### 데이터를 전처리합니다."
      ]
    },
    {
      "cell_type": "code",
      "metadata": {
        "id": "S_aWRMslP6Hp"
      },
      "source": [
        "X_train = X_train.reshape(60000, 28, 28, 1).astype('float32')\n",
        "X_valid = X_valid.reshape(10000, 28, 28, 1).astype('float32')"
      ],
      "execution_count": 3,
      "outputs": []
    },
    {
      "cell_type": "code",
      "metadata": {
        "id": "se51PfthP6Hp"
      },
      "source": [
        "X_train /= 255\n",
        "X_valid /= 255"
      ],
      "execution_count": 4,
      "outputs": []
    },
    {
      "cell_type": "code",
      "metadata": {
        "id": "KUE_VeFiP6Hp"
      },
      "source": [
        "n_classes = 10\n",
        "y_train = keras.utils.to_categorical(y_train, n_classes)\n",
        "y_valid = keras.utils.to_categorical(y_valid, n_classes)"
      ],
      "execution_count": 5,
      "outputs": []
    },
    {
      "cell_type": "markdown",
      "metadata": {
        "id": "5aE2huiNP6Hp"
      },
      "source": [
        "#### 신경망 모델을 만듭니다."
      ]
    },
    {
      "cell_type": "code",
      "metadata": {
        "id": "ozZ3asHxP6Hq"
      },
      "source": [
        "model = Sequential()\n",
        "\n",
        "model.add(Conv2D(32, kernel_size=(3, 3), activation='relu', input_shape=(28, 28, 1)))\n",
        "\n",
        "model.add(Conv2D(64, kernel_size=(3, 3), activation='relu'))\n",
        "model.add(MaxPooling2D(pool_size=(2, 2)))\n",
        "model.add(Dropout(0.25))\n",
        "model.add(Flatten())\n",
        "\n",
        "model.add(Dense(128, activation='relu'))\n",
        "model.add(Dropout(0.5))\n",
        "\n",
        "model.add(Dense(n_classes, activation='softmax'))"
      ],
      "execution_count": 6,
      "outputs": []
    },
    {
      "cell_type": "code",
      "metadata": {
        "id": "A3JA2ahzP6Hq",
        "colab": {
          "base_uri": "https://localhost:8080/"
        },
        "outputId": "9fc6e789-6489-43fd-daeb-539f81dc3d25"
      },
      "source": [
        "model.summary()"
      ],
      "execution_count": 7,
      "outputs": [
        {
          "output_type": "stream",
          "text": [
            "Model: \"sequential\"\n",
            "_________________________________________________________________\n",
            "Layer (type)                 Output Shape              Param #   \n",
            "=================================================================\n",
            "conv2d (Conv2D)              (None, 26, 26, 32)        320       \n",
            "_________________________________________________________________\n",
            "conv2d_1 (Conv2D)            (None, 24, 24, 64)        18496     \n",
            "_________________________________________________________________\n",
            "max_pooling2d (MaxPooling2D) (None, 12, 12, 64)        0         \n",
            "_________________________________________________________________\n",
            "dropout (Dropout)            (None, 12, 12, 64)        0         \n",
            "_________________________________________________________________\n",
            "flatten (Flatten)            (None, 9216)              0         \n",
            "_________________________________________________________________\n",
            "dense (Dense)                (None, 128)               1179776   \n",
            "_________________________________________________________________\n",
            "dropout_1 (Dropout)          (None, 128)               0         \n",
            "_________________________________________________________________\n",
            "dense_1 (Dense)              (None, 10)                1290      \n",
            "=================================================================\n",
            "Total params: 1,199,882\n",
            "Trainable params: 1,199,882\n",
            "Non-trainable params: 0\n",
            "_________________________________________________________________\n"
          ],
          "name": "stdout"
        }
      ]
    },
    {
      "cell_type": "markdown",
      "metadata": {
        "id": "RqMEQz_rP6Hq"
      },
      "source": [
        "#### 모델을 설정합니다."
      ]
    },
    {
      "cell_type": "code",
      "metadata": {
        "id": "xevWEuNDP6Hq"
      },
      "source": [
        "model.compile(loss='categorical_crossentropy', optimizer='adam', metrics=['accuracy'])"
      ],
      "execution_count": 8,
      "outputs": []
    },
    {
      "cell_type": "markdown",
      "metadata": {
        "id": "Sa8I9xhCP6Hq"
      },
      "source": [
        "#### 훈련!"
      ]
    },
    {
      "cell_type": "code",
      "metadata": {
        "id": "bsLCVNMPP6Hq",
        "colab": {
          "base_uri": "https://localhost:8080/"
        },
        "outputId": "a826c1e9-98ee-4a72-ed02-2da62c74c200"
      },
      "source": [
        "model.fit(X_train, y_train, batch_size=128, epochs=10, verbose=1, validation_data=(X_valid, y_valid))"
      ],
      "execution_count": 9,
      "outputs": [
        {
          "output_type": "stream",
          "text": [
            "Epoch 1/10\n",
            "469/469 [==============================] - 36s 16ms/step - loss: 0.2452 - accuracy: 0.9249 - val_loss: 0.0476 - val_accuracy: 0.9841\n",
            "Epoch 2/10\n",
            "469/469 [==============================] - 7s 15ms/step - loss: 0.0817 - accuracy: 0.9762 - val_loss: 0.0364 - val_accuracy: 0.9871\n",
            "Epoch 3/10\n",
            "469/469 [==============================] - 7s 15ms/step - loss: 0.0617 - accuracy: 0.9806 - val_loss: 0.0306 - val_accuracy: 0.9901\n",
            "Epoch 4/10\n",
            "469/469 [==============================] - 7s 15ms/step - loss: 0.0501 - accuracy: 0.9848 - val_loss: 0.0312 - val_accuracy: 0.9895\n",
            "Epoch 5/10\n",
            "469/469 [==============================] - 7s 15ms/step - loss: 0.0415 - accuracy: 0.9869 - val_loss: 0.0273 - val_accuracy: 0.9918\n",
            "Epoch 6/10\n",
            "469/469 [==============================] - 7s 15ms/step - loss: 0.0382 - accuracy: 0.9880 - val_loss: 0.0259 - val_accuracy: 0.9914\n",
            "Epoch 7/10\n",
            "469/469 [==============================] - 7s 15ms/step - loss: 0.0324 - accuracy: 0.9897 - val_loss: 0.0271 - val_accuracy: 0.9914\n",
            "Epoch 8/10\n",
            "469/469 [==============================] - 7s 15ms/step - loss: 0.0292 - accuracy: 0.9907 - val_loss: 0.0283 - val_accuracy: 0.9910\n",
            "Epoch 9/10\n",
            "469/469 [==============================] - 7s 15ms/step - loss: 0.0273 - accuracy: 0.9906 - val_loss: 0.0296 - val_accuracy: 0.9908\n",
            "Epoch 10/10\n",
            "469/469 [==============================] - 7s 15ms/step - loss: 0.0256 - accuracy: 0.9916 - val_loss: 0.0259 - val_accuracy: 0.9924\n"
          ],
          "name": "stdout"
        },
        {
          "output_type": "execute_result",
          "data": {
            "text/plain": [
              "<keras.callbacks.History at 0x7f018058b510>"
            ]
          },
          "metadata": {},
          "execution_count": 9
        }
      ]
    }
  ]
}