{
  "nbformat": 4,
  "nbformat_minor": 0,
  "metadata": {
    "kernelspec": {
      "display_name": "TensorFlow 2.3 on Python 3.6 (CUDA 10.1)",
      "language": "python",
      "name": "python3"
    },
    "language_info": {
      "codemirror_mode": {
        "name": "ipython",
        "version": 3
      },
      "file_extension": ".py",
      "mimetype": "text/x-python",
      "name": "python",
      "nbconvert_exporter": "python",
      "pygments_lexer": "ipython3",
      "version": "3.6.9"
    },
    "colab": {
      "name": "11-4.rnn_sentiment_classifier.ipynb",
      "provenance": []
    },
    "accelerator": "GPU"
  },
  "cells": [
    {
      "cell_type": "markdown",
      "metadata": {
        "id": "fl8VG9enicGG"
      },
      "source": [
        "# RNN 감성 분류기"
      ]
    },
    {
      "cell_type": "markdown",
      "metadata": {
        "id": "reAVjNDQicGK"
      },
      "source": [
        "이 노트북에서 RNN을 사용해 감성에 따라 IMDB 영화 리뷰를 분류합니다."
      ]
    },
    {
      "cell_type": "markdown",
      "metadata": {
        "id": "orUztv6SicGL"
      },
      "source": [
        "[![Open In Colab](https://colab.research.google.com/assets/colab-badge.svg)](https://colab.research.google.com/github/rickiepark/dl-illustrated/blob/master/notebooks/11-4.rnn_sentiment_classifier.ipynb)"
      ]
    },
    {
      "cell_type": "markdown",
      "metadata": {
        "id": "YJ9teMgbicGL"
      },
      "source": [
        "#### 라이브러리를 적재합니다."
      ]
    },
    {
      "cell_type": "code",
      "metadata": {
        "id": "N7feftmSicGL"
      },
      "source": [
        "from tensorflow import keras\n",
        "from tensorflow.keras.datasets import imdb\n",
        "from tensorflow.keras.preprocessing.sequence import pad_sequences\n",
        "from tensorflow.keras.models import Sequential\n",
        "from tensorflow.keras.layers import Dense, Dropout, Embedding, SpatialDropout1D\n",
        "from tensorflow.keras.layers import SimpleRNN # new! \n",
        "from tensorflow.keras.callbacks import ModelCheckpoint\n",
        "import os\n",
        "from sklearn.metrics import roc_auc_score \n",
        "import matplotlib.pyplot as plt \n",
        "%matplotlib inline"
      ],
      "execution_count": 1,
      "outputs": []
    },
    {
      "cell_type": "markdown",
      "metadata": {
        "id": "PxsYoFXoicGM"
      },
      "source": [
        "#### 하이퍼파라미터를 설정합니다."
      ]
    },
    {
      "cell_type": "code",
      "metadata": {
        "id": "8z9MJQf3icGM"
      },
      "source": [
        "# 출력 디렉토리\n",
        "output_dir = 'model_output/rnn'\n",
        "\n",
        "# 훈련\n",
        "epochs = 16 # 더 많이!\n",
        "batch_size = 128\n",
        "\n",
        "# 벡터 공간 임베딩\n",
        "n_dim = 64 \n",
        "n_unique_words = 10000 \n",
        "max_review_length = 100 # 시간에 따른 그레이디언트 소실 때문에 낮춤\n",
        "pad_type = trunc_type = 'pre'\n",
        "drop_embed = 0.2 \n",
        "\n",
        "# RNN 층 구조\n",
        "n_rnn = 256 \n",
        "drop_rnn = 0.2\n",
        "\n",
        "# 밀집 층 구조\n",
        "# n_dense = 256\n",
        "# dropout = 0.2"
      ],
      "execution_count": 2,
      "outputs": []
    },
    {
      "cell_type": "markdown",
      "metadata": {
        "id": "FLXby5f-icGM"
      },
      "source": [
        "#### 데이터를 적재합니다."
      ]
    },
    {
      "cell_type": "code",
      "metadata": {
        "id": "d7nK-B-cicGM",
        "colab": {
          "base_uri": "https://localhost:8080/"
        },
        "outputId": "534d6349-73eb-4124-8bff-7e1ac158bfd4"
      },
      "source": [
        "(x_train, y_train), (x_valid, y_valid) = imdb.load_data(num_words=n_unique_words) # n_words_to_skip 삭제"
      ],
      "execution_count": 3,
      "outputs": [
        {
          "output_type": "stream",
          "text": [
            "Downloading data from https://storage.googleapis.com/tensorflow/tf-keras-datasets/imdb.npz\n",
            "17465344/17464789 [==============================] - 0s 0us/step\n",
            "17473536/17464789 [==============================] - 0s 0us/step\n"
          ],
          "name": "stdout"
        }
      ]
    },
    {
      "cell_type": "markdown",
      "metadata": {
        "id": "YI1-tFkiicGM"
      },
      "source": [
        "#### 데이터를 전처리합니다."
      ]
    },
    {
      "cell_type": "code",
      "metadata": {
        "id": "UiARILnJicGN"
      },
      "source": [
        "x_train = pad_sequences(x_train, maxlen=max_review_length, padding=pad_type, truncating=trunc_type, value=0)\n",
        "x_valid = pad_sequences(x_valid, maxlen=max_review_length, padding=pad_type, truncating=trunc_type, value=0)"
      ],
      "execution_count": 4,
      "outputs": []
    },
    {
      "cell_type": "markdown",
      "metadata": {
        "collapsed": true,
        "id": "ZQ_Bb0-LicGN"
      },
      "source": [
        "#### 신경망 만들기"
      ]
    },
    {
      "cell_type": "code",
      "metadata": {
        "id": "JQoJSqO1icGN"
      },
      "source": [
        "model = Sequential()\n",
        "model.add(Embedding(n_unique_words, n_dim, input_length=max_review_length)) \n",
        "model.add(SpatialDropout1D(drop_embed))\n",
        "model.add(SimpleRNN(n_rnn, dropout=drop_rnn))\n",
        "# model.add(Dense(n_dense, activation='relu')) # 일반적으로 NLP에서는 밀집 층을 위에 놓지 않습니다.\n",
        "# model.add(Dropout(dropout))\n",
        "model.add(Dense(1, activation='sigmoid'))"
      ],
      "execution_count": 5,
      "outputs": []
    },
    {
      "cell_type": "code",
      "metadata": {
        "id": "ZQpDJZXticGN",
        "colab": {
          "base_uri": "https://localhost:8080/"
        },
        "outputId": "bffb63c0-c771-4d59-afb4-79fdbf6dd4ac"
      },
      "source": [
        "model.summary() "
      ],
      "execution_count": 6,
      "outputs": [
        {
          "output_type": "stream",
          "text": [
            "Model: \"sequential\"\n",
            "_________________________________________________________________\n",
            "Layer (type)                 Output Shape              Param #   \n",
            "=================================================================\n",
            "embedding (Embedding)        (None, 100, 64)           640000    \n",
            "_________________________________________________________________\n",
            "spatial_dropout1d (SpatialDr (None, 100, 64)           0         \n",
            "_________________________________________________________________\n",
            "simple_rnn (SimpleRNN)       (None, 256)               82176     \n",
            "_________________________________________________________________\n",
            "dense (Dense)                (None, 1)                 257       \n",
            "=================================================================\n",
            "Total params: 722,433\n",
            "Trainable params: 722,433\n",
            "Non-trainable params: 0\n",
            "_________________________________________________________________\n"
          ],
          "name": "stdout"
        }
      ]
    },
    {
      "cell_type": "markdown",
      "metadata": {
        "id": "gybhPuapicGO"
      },
      "source": [
        "#### 모델 설정"
      ]
    },
    {
      "cell_type": "code",
      "metadata": {
        "id": "stvu9V4qicGO"
      },
      "source": [
        "model.compile(loss='binary_crossentropy', optimizer='adam', metrics=['accuracy'])"
      ],
      "execution_count": 7,
      "outputs": []
    },
    {
      "cell_type": "code",
      "metadata": {
        "id": "pSJq2Y0VicGO"
      },
      "source": [
        "modelcheckpoint = ModelCheckpoint(filepath=output_dir+\"/weights.{epoch:02d}.hdf5\")\n",
        "if not os.path.exists(output_dir):\n",
        "    os.makedirs(output_dir)"
      ],
      "execution_count": 8,
      "outputs": []
    },
    {
      "cell_type": "markdown",
      "metadata": {
        "id": "WjCW_-oSicGO"
      },
      "source": [
        "#### 훈련!"
      ]
    },
    {
      "cell_type": "code",
      "metadata": {
        "id": "7mKYC5oFicGO",
        "colab": {
          "base_uri": "https://localhost:8080/"
        },
        "outputId": "24f66fb2-a48d-4d17-d3f7-12b078ded9cb"
      },
      "source": [
        "model.fit(x_train, y_train, batch_size=batch_size, epochs=epochs, verbose=1, validation_data=(x_valid, y_valid), callbacks=[modelcheckpoint])"
      ],
      "execution_count": 9,
      "outputs": [
        {
          "output_type": "stream",
          "text": [
            "Epoch 1/16\n",
            "196/196 [==============================] - 29s 126ms/step - loss: 0.6948 - accuracy: 0.5217 - val_loss: 0.7083 - val_accuracy: 0.5091\n",
            "Epoch 2/16\n",
            "196/196 [==============================] - 25s 126ms/step - loss: 0.6796 - accuracy: 0.5620 - val_loss: 0.6680 - val_accuracy: 0.5743\n",
            "Epoch 3/16\n",
            "196/196 [==============================] - 25s 126ms/step - loss: 0.6253 - accuracy: 0.6427 - val_loss: 0.5538 - val_accuracy: 0.7186\n",
            "Epoch 4/16\n",
            "196/196 [==============================] - 25s 126ms/step - loss: 0.5448 - accuracy: 0.7241 - val_loss: 0.6242 - val_accuracy: 0.6427\n",
            "Epoch 5/16\n",
            "196/196 [==============================] - 24s 125ms/step - loss: 0.4761 - accuracy: 0.7806 - val_loss: 0.4789 - val_accuracy: 0.7934\n",
            "Epoch 6/16\n",
            "196/196 [==============================] - 24s 125ms/step - loss: 0.3819 - accuracy: 0.8380 - val_loss: 0.4772 - val_accuracy: 0.7744\n",
            "Epoch 7/16\n",
            "196/196 [==============================] - 25s 127ms/step - loss: 0.3487 - accuracy: 0.8567 - val_loss: 0.4430 - val_accuracy: 0.8156\n",
            "Epoch 8/16\n",
            "196/196 [==============================] - 24s 125ms/step - loss: 0.3289 - accuracy: 0.8662 - val_loss: 0.4626 - val_accuracy: 0.8074\n",
            "Epoch 9/16\n",
            "196/196 [==============================] - 25s 126ms/step - loss: 0.3909 - accuracy: 0.8270 - val_loss: 0.5150 - val_accuracy: 0.7908\n",
            "Epoch 10/16\n",
            "196/196 [==============================] - 25s 125ms/step - loss: 0.4268 - accuracy: 0.8043 - val_loss: 0.6409 - val_accuracy: 0.6168\n",
            "Epoch 11/16\n",
            "196/196 [==============================] - 24s 124ms/step - loss: 0.4202 - accuracy: 0.8101 - val_loss: 0.5338 - val_accuracy: 0.7839\n",
            "Epoch 12/16\n",
            "196/196 [==============================] - 24s 125ms/step - loss: 0.3843 - accuracy: 0.8386 - val_loss: 0.5257 - val_accuracy: 0.7835\n",
            "Epoch 13/16\n",
            "196/196 [==============================] - 24s 124ms/step - loss: 0.3681 - accuracy: 0.8467 - val_loss: 0.5505 - val_accuracy: 0.7814\n",
            "Epoch 14/16\n",
            "196/196 [==============================] - 25s 125ms/step - loss: 0.4864 - accuracy: 0.7613 - val_loss: 0.5927 - val_accuracy: 0.6984\n",
            "Epoch 15/16\n",
            "196/196 [==============================] - 25s 126ms/step - loss: 0.3769 - accuracy: 0.8406 - val_loss: 0.5842 - val_accuracy: 0.6957\n",
            "Epoch 16/16\n",
            "196/196 [==============================] - 24s 125ms/step - loss: 0.3257 - accuracy: 0.8735 - val_loss: 0.5192 - val_accuracy: 0.7826\n"
          ],
          "name": "stdout"
        },
        {
          "output_type": "execute_result",
          "data": {
            "text/plain": [
              "<keras.callbacks.History at 0x7f0d15bda850>"
            ]
          },
          "metadata": {},
          "execution_count": 9
        }
      ]
    },
    {
      "cell_type": "markdown",
      "metadata": {
        "collapsed": true,
        "id": "OTWp8UznicGP"
      },
      "source": [
        "#### 평가"
      ]
    },
    {
      "cell_type": "code",
      "metadata": {
        "id": "A1INhEG2icGP"
      },
      "source": [
        "model.load_weights(output_dir+\"/weights.07.hdf5\") "
      ],
      "execution_count": 10,
      "outputs": []
    },
    {
      "cell_type": "code",
      "metadata": {
        "id": "pasKnvgKicGP"
      },
      "source": [
        "y_hat = model.predict(x_valid)"
      ],
      "execution_count": 11,
      "outputs": []
    },
    {
      "cell_type": "code",
      "metadata": {
        "id": "6x3Mwhu7icGP",
        "colab": {
          "base_uri": "https://localhost:8080/",
          "height": 265
        },
        "outputId": "fce64cf2-ad81-4d00-9cea-0174235624e1"
      },
      "source": [
        "plt.hist(y_hat)\n",
        "_ = plt.axvline(x=0.5, color='orange')"
      ],
      "execution_count": 12,
      "outputs": [
        {
          "output_type": "display_data",
          "data": {
            "image/png": "[encoded data removed]",
            "text/plain": [
              "<Figure size 432x288 with 1 Axes>"
            ]
          },
          "metadata": {
            "needs_background": "light"
          }
        }
      ]
    },
    {
      "cell_type": "code",
      "metadata": {
        "id": "KwfLHETcicGP",
        "colab": {
          "base_uri": "https://localhost:8080/",
          "height": 35
        },
        "outputId": "8e26a65a-30ba-453c-cd7a-99795ede4b4b"
      },
      "source": [
        "\"{:0.2f}\".format(roc_auc_score(y_valid, y_hat)*100.0)"
      ],
      "execution_count": 13,
      "outputs": [
        {
          "output_type": "execute_result",
          "data": {
            "application/vnd.google.colaboratory.intrinsic+json": {
              "type": "string"
            },
            "text/plain": [
              "'89.07'"
            ]
          },
          "metadata": {},
          "execution_count": 13
        }
      ]
    }
  ]
}